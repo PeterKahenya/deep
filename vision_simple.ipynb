{
 "cells": [
  {
   "cell_type": "code",
   "execution_count": 2,
   "metadata": {},
   "outputs": [],
   "source": [
    "import os\n",
    "import torch\n",
    "from torch import nn,optim\n",
    "from torch.utils.data import Dataset,DataLoader\n",
    "import torchvision\n",
    "from torchvision import io\n",
    "from torchvision import datasets\n",
    "from torchvision import transforms\n",
    "from torchvision import models\n",
    "import torchmetrics\n",
    "import pandas as pd\n",
    "import matplotlib.pyplot as plt\n",
    "import tqdm"
   ]
  },
  {
   "attachments": {},
   "cell_type": "markdown",
   "metadata": {},
   "source": [
    "# Data Preparation and Loading"
   ]
  },
  {
   "cell_type": "code",
   "execution_count": 3,
   "metadata": {},
   "outputs": [],
   "source": [
    "class CustomImageDataset(Dataset):\n",
    "    def __init__(self, img_dir, annotations_file, transform=None, target_transform=None):\n",
    "        self.img_labels = pd.read_csv(annotations_file)\n",
    "        self.img_dir = img_dir\n",
    "        self.transform = transform\n",
    "        self.target_transform = target_transform\n",
    "\n",
    "    def __len__(self):\n",
    "        return len(self.img_labels)\n",
    "\n",
    "    def __getitem__(self, idx):\n",
    "        img_path = os.path.join(self.img_dir, self.img_labels.iloc[idx, 0])\n",
    "        image = io.read_image(img_path)/255\n",
    "        label = self.img_labels.iloc[idx, 1]\n",
    "        if self.transform:\n",
    "            image = self.transform(image)\n",
    "        if self.target_transform:\n",
    "            label = self.target_transform(label)\n",
    "        return image, label"
   ]
  },
  {
   "cell_type": "code",
   "execution_count": 4,
   "metadata": {},
   "outputs": [
    {
     "data": {
      "text/plain": [
       "(59999, 9999)"
      ]
     },
     "execution_count": 4,
     "metadata": {},
     "output_type": "execute_result"
    }
   ],
   "source": [
    "train_dataset = CustomImageDataset(\"data/FashionMNIST/train/images/\",\n",
    "                                   \"data/FashionMNIST/train/labels.csv\")\n",
    "                                \n",
    "test_dataset = CustomImageDataset(\"data/FashionMNIST/test/images/\",\n",
    "                                  \"data/FashionMNIST/test/labels.csv\")\n",
    "\n",
    "train_dataloader = DataLoader(train_dataset, batch_size=64, shuffle=True)\n",
    "test_dataloader = DataLoader(test_dataset, batch_size=64, shuffle=False)\n",
    "len(train_dataset),len(test_dataset)\n",
    "# test_dataset[0][1]"
   ]
  },
  {
   "attachments": {},
   "cell_type": "markdown",
   "metadata": {},
   "source": [
    "# Build the model"
   ]
  },
  {
   "cell_type": "code",
   "execution_count": 5,
   "metadata": {},
   "outputs": [
    {
     "data": {
      "text/plain": [
       "tensor([[ 1.5865e-01, -6.5931e-01, -5.0601e-01, -2.4330e-01, -4.2873e-01,\n",
       "          4.7841e-01, -6.0747e-01,  4.8928e-01, -1.0634e-02, -5.3490e-02],\n",
       "        [ 1.8728e-02, -6.9029e-01, -2.8535e-01, -6.5068e-02,  4.4815e-01,\n",
       "         -2.7633e-01,  4.9143e-02, -3.3208e-01, -6.7332e-02, -4.7086e-01],\n",
       "        [ 8.5190e-02, -7.7262e-01, -1.0559e-01, -6.5876e-01, -6.2679e-01,\n",
       "         -2.6864e-01,  2.6390e-01, -1.5496e-01,  4.3801e-01, -5.9199e-01],\n",
       "        [ 1.1034e-02, -2.2158e-01, -1.3386e-01, -7.0135e-02, -5.2147e-01,\n",
       "         -2.5941e-01, -2.3348e-01,  4.2510e-01,  1.9611e-01, -1.5643e-01],\n",
       "        [ 2.7263e-02, -4.1622e-01, -2.4622e-01,  6.1172e-02,  1.2330e-01,\n",
       "         -5.8101e-01, -5.5150e-02, -1.8079e-01,  9.2575e-02,  4.1662e-02],\n",
       "        [ 8.4539e-02,  1.0708e-01, -2.6700e-01, -2.7708e-01, -3.0507e-01,\n",
       "          4.5116e-01,  2.0677e-02, -1.1712e-02, -6.2615e-01,  4.4040e-01],\n",
       "        [ 8.5615e-03, -4.0864e-01, -6.3853e-01, -8.5393e-01, -9.3863e-01,\n",
       "          3.1905e-02, -1.1524e-01,  6.3727e-01,  3.3470e-01,  4.1965e-01],\n",
       "        [-3.0680e-01, -9.0318e-01, -5.9446e-01, -1.0204e-01, -3.2954e-01,\n",
       "          5.5579e-01,  1.0052e-01, -3.4150e-01,  2.4121e-01, -8.9678e-01],\n",
       "        [-1.5976e-01,  3.8369e-01,  2.8650e-01, -1.2161e-01, -6.0126e-01,\n",
       "          9.6015e-02, -5.9958e-02,  9.2171e-01, -1.6619e-01, -7.7277e-03],\n",
       "        [-3.3733e-01, -3.4817e-01, -3.9062e-01,  1.7129e-01,  8.0177e-02,\n",
       "          3.4884e-02, -1.3807e-01, -1.9263e-01,  1.9015e-01, -5.6406e-01],\n",
       "        [-2.9762e-01,  2.7805e-01,  5.9749e-02,  3.6128e-01, -2.3314e-01,\n",
       "         -1.0869e-01, -4.8216e-01,  4.6621e-01,  2.4764e-01, -2.8000e-01],\n",
       "        [-2.3341e-01, -5.1897e-01, -2.6053e-01,  8.8605e-02,  7.2009e-01,\n",
       "         -2.6697e-01, -9.9981e-02, -3.4495e-01,  1.9528e-01, -5.8454e-02],\n",
       "        [ 8.9791e-02, -8.1258e-01, -5.4314e-01, -3.1260e-01, -1.0933e-01,\n",
       "          3.7874e-01, -4.5551e-01,  5.3831e-01, -9.2995e-03,  1.3115e-01],\n",
       "        [-3.8079e-01, -1.0761e-01, -8.4255e-02,  5.7255e-02,  4.9996e-02,\n",
       "         -5.4374e-01,  5.8454e-02, -3.3643e-02,  4.6821e-01, -4.3560e-01],\n",
       "        [-4.2750e-01, -4.9386e-01, -3.5271e-01,  6.4304e-02,  6.4863e-03,\n",
       "          1.0639e-01, -1.7761e-01,  9.4321e-02,  3.9938e-01, -4.9001e-01],\n",
       "        [-2.6132e-01, -6.7789e-01, -6.1796e-01,  1.1641e-01, -6.4640e-03,\n",
       "          2.3354e-01, -3.5495e-01,  5.3473e-02,  3.2870e-01, -4.5063e-01],\n",
       "        [ 2.7951e-02, -4.2408e-01,  1.0678e-01, -7.3699e-01, -6.3971e-01,\n",
       "         -7.2498e-02,  6.2092e-01,  6.7243e-02, -9.4849e-02,  1.6591e-01],\n",
       "        [-2.3959e-01, -2.3013e-01, -2.4051e-01,  2.7680e-01,  2.2188e-01,\n",
       "          2.8361e-01, -2.8751e-01,  3.5289e-01, -1.6887e-01, -1.9225e-02],\n",
       "        [ 3.7027e-02, -9.2648e-01, -2.1985e-01, -3.6327e-01,  5.3670e-02,\n",
       "         -1.7020e-01,  2.3741e-02, -4.3059e-03,  2.4841e-01,  3.0720e-01],\n",
       "        [-3.4544e-01,  4.9615e-01,  3.1097e-01,  2.3753e-02, -4.0403e-01,\n",
       "          1.2111e-02, -3.8433e-01,  1.1999e+00, -1.1824e-01,  2.8319e-02],\n",
       "        [ 2.9388e-01, -3.5810e-01, -1.8519e-02, -3.3523e-01,  1.7132e-01,\n",
       "         -3.3217e-01, -1.0480e-02,  9.6907e-03, -2.2798e-01, -1.0022e-01],\n",
       "        [-3.9229e-01, -4.2945e-01, -2.5120e-01,  4.7735e-03,  1.3048e-01,\n",
       "         -5.2875e-01,  2.9947e-01, -3.3023e-03,  3.2060e-01, -9.4377e-01],\n",
       "        [ 3.0177e-01,  8.7010e-02,  3.7876e-01,  5.3197e-02, -1.8327e-01,\n",
       "         -8.6773e-02,  1.0521e-01,  4.5594e-01, -7.3375e-01, -2.4902e-01],\n",
       "        [-3.1125e-01, -1.0000e-01,  2.0357e-02, -3.1327e-01, -2.8945e-01,\n",
       "          1.3761e-01,  7.7909e-02,  6.2643e-01, -1.3253e-01, -8.2012e-02],\n",
       "        [-2.1959e-01,  7.2967e-02, -6.1738e-01, -1.9857e-01, -3.3255e-01,\n",
       "          1.5167e-01,  2.1457e-01,  7.5956e-02, -1.2424e-01, -1.9552e-01],\n",
       "        [-3.3954e-01, -8.6044e-02, -1.7379e-01, -2.3288e-01, -4.8757e-01,\n",
       "          2.9427e-01,  1.4555e-01, -3.4990e-01,  1.3127e-01, -3.8644e-01],\n",
       "        [-1.7002e-01,  1.0488e-01,  2.8604e-02, -3.0271e-01, -5.6617e-01,\n",
       "         -5.9335e-01,  2.9280e-01,  1.7578e-01,  2.1007e-01, -7.1609e-01],\n",
       "        [-6.1479e-01,  1.8272e-01, -2.9484e-01,  1.1293e-02, -2.6170e-01,\n",
       "         -2.5812e-02,  9.1940e-02, -1.1388e-01,  3.0204e-01, -4.1860e-01],\n",
       "        [ 5.4433e-02, -4.5561e-02, -1.0276e-01, -1.2521e-01,  9.5650e-02,\n",
       "         -4.4468e-01,  1.5146e-01, -3.0823e-01, -1.2068e-01, -2.1659e-01],\n",
       "        [-2.1369e-01, -3.3531e-01, -3.9889e-01, -1.4373e-01,  5.8777e-02,\n",
       "         -1.8377e-01, -2.7435e-01,  1.0676e-01,  2.9524e-01, -2.4181e-02],\n",
       "        [-2.9738e-01, -2.9675e-01, -3.8238e-01, -3.3893e-01, -2.2796e-01,\n",
       "         -2.5653e-01, -5.2934e-02, -4.6600e-01,  6.8695e-01,  3.8419e-01],\n",
       "        [-2.2836e-01, -1.1277e-01, -1.0945e-01,  3.6682e-02,  6.3152e-02,\n",
       "         -1.3113e-01,  8.3868e-02, -4.1115e-01,  3.7987e-02,  6.2021e-02],\n",
       "        [-5.3095e-03,  1.7921e-01, -1.5078e-01,  1.2907e-03, -2.1378e-01,\n",
       "         -2.5957e-01,  6.8854e-02,  5.7276e-01, -3.9737e-01, -6.6096e-01],\n",
       "        [-1.6674e-01, -2.1283e-02, -5.3039e-02,  1.5808e-01,  1.1177e-01,\n",
       "         -4.8547e-01,  6.8335e-02, -8.1266e-02, -6.6221e-02, -2.4343e-01],\n",
       "        [ 1.4777e-01, -7.7454e-01, -3.2165e-01, -4.9071e-01, -2.4973e-02,\n",
       "         -4.9229e-01,  3.1068e-01, -3.9361e-01,  1.0185e-01, -8.5509e-01],\n",
       "        [-6.9490e-02,  1.9175e-01, -2.9003e-01, -1.4295e-01, -6.7889e-01,\n",
       "          6.8571e-01, -1.1813e-01,  6.1311e-01, -4.3935e-01,  6.5273e-02],\n",
       "        [ 7.3390e-02,  5.3641e-02, -5.5565e-02, -8.4891e-01, -6.3049e-01,\n",
       "         -2.4295e-01,  1.0194e-01,  1.4909e-01, -2.9284e-02,  5.2977e-01],\n",
       "        [-5.3559e-02,  1.1861e-01,  3.8759e-02,  4.2950e-03, -2.4191e-01,\n",
       "         -1.5314e-01,  1.2485e-02,  5.2000e-01, -3.2792e-01, -3.3707e-01],\n",
       "        [-1.8323e-01, -4.4853e-01, -2.6679e-02, -8.2162e-02, -1.6560e-01,\n",
       "          8.7690e-02,  2.8760e-02, -1.1248e-01,  2.0136e-01, -4.1181e-01],\n",
       "        [-5.2169e-01,  8.0533e-01,  3.4899e-01,  1.6631e-01, -6.1067e-01,\n",
       "          2.0785e-01,  1.2535e-01,  4.3053e-01, -3.8961e-01,  5.1999e-02],\n",
       "        [-1.1575e-01, -2.9674e-01, -1.0589e-01, -5.4955e-02, -3.2403e-01,\n",
       "         -6.9391e-01,  8.9954e-02,  4.4485e-01,  3.4164e-01, -1.1641e+00],\n",
       "        [ 2.1346e-01,  2.7248e-01, -5.5162e-02, -3.1665e-01, -2.5709e-01,\n",
       "         -2.3970e-01, -1.9389e-02, -2.0337e-01, -3.9283e-01,  8.0363e-02],\n",
       "        [-1.2373e-01, -3.5745e-01,  6.3047e-03, -2.2270e-01,  2.5071e-02,\n",
       "         -2.2964e-01,  4.3388e-02,  3.5061e-01,  1.2041e-01,  1.0623e-01],\n",
       "        [ 1.3446e-01, -2.3998e-01, -1.9985e-01, -4.5968e-01, -6.5154e-01,\n",
       "         -1.8992e-01,  1.1866e-01,  6.6871e-02,  7.6046e-02,  2.8002e-01],\n",
       "        [-1.4811e-01, -2.1368e-02, -1.4675e-02, -5.1424e-01, -5.2865e-01,\n",
       "          2.2153e-01, -1.8742e-01,  5.6659e-01, -2.0134e-02,  6.7369e-01],\n",
       "        [-2.9955e-01,  2.1084e-01,  1.8453e-01, -3.6849e-01, -4.5284e-01,\n",
       "          2.8037e-01,  2.6781e-01,  2.5307e-01, -2.9179e-01,  1.6114e-01],\n",
       "        [-4.9740e-01,  5.5073e-02,  1.1849e-01,  2.1892e-01, -3.4944e-01,\n",
       "          8.1837e-01, -1.5765e-01,  3.5572e-01, -2.4654e-01,  5.1155e-02],\n",
       "        [ 9.6109e-02, -4.7212e-01, -4.0314e-01, -4.5750e-01, -5.2637e-01,\n",
       "          1.5714e-01,  4.9125e-01, -1.9570e-01, -2.0787e-01, -9.4996e-02],\n",
       "        [-2.1055e-01, -6.0353e-01, -6.1721e-01, -3.5424e-01, -3.7711e-01,\n",
       "         -3.1251e-01, -1.3993e-01,  1.4361e-01,  6.1263e-01, -3.9408e-01],\n",
       "        [ 2.5671e-01, -4.0182e-01, -1.7655e-01, -5.7085e-01, -4.0782e-01,\n",
       "         -6.3286e-01,  5.7390e-01, -5.5468e-01,  5.5063e-02, -6.3052e-01],\n",
       "        [-4.1559e-01, -1.1615e-02, -1.4154e-01, -1.1588e-02, -4.5233e-01,\n",
       "         -1.5077e-03, -1.3246e-01,  4.2298e-01,  2.6492e-01, -1.7226e-01],\n",
       "        [-1.0816e-01, -4.1202e-01, -4.8933e-01, -8.2527e-02, -1.8921e-01,\n",
       "         -1.1587e-02,  1.4330e-01, -3.3446e-01,  9.6569e-02, -3.8914e-01],\n",
       "        [-3.6430e-01, -3.8161e-01, -2.8441e-01,  1.3931e-01,  9.8252e-02,\n",
       "          4.2560e-01, -3.6017e-01,  9.3314e-02,  3.6937e-02, -5.3757e-01],\n",
       "        [ 1.9136e-01, -2.1955e-01,  2.6801e-02, -4.3943e-01, -6.2322e-01,\n",
       "         -2.6844e-01,  3.2956e-01,  2.3779e-01, -2.8357e-01, -5.9811e-01],\n",
       "        [-1.7299e-01, -4.7668e-01, -1.8047e-01,  4.4799e-02, -1.8040e-01,\n",
       "         -2.7806e-01, -1.0758e-01, -2.7330e-01,  4.7445e-01, -7.5172e-01],\n",
       "        [ 5.9239e-04,  1.1078e-01, -5.6037e-02, -5.2238e-01, -5.2773e-01,\n",
       "         -4.4633e-02,  5.7883e-01,  4.5237e-01, -5.1161e-01, -2.8249e-01],\n",
       "        [ 1.1532e-01, -5.2063e-01, -2.5803e-01, -5.0389e-01, -2.7112e-02,\n",
       "         -6.1875e-01,  3.3250e-01, -3.5227e-01,  7.1867e-02, -7.1403e-01],\n",
       "        [-6.5568e-01, -9.0157e-02, -2.5576e-01,  4.8364e-01,  2.2136e-01,\n",
       "         -1.4480e-01, -4.3366e-01,  1.4431e-01,  5.3050e-01, -4.2319e-01],\n",
       "        [ 1.8896e-01,  4.3135e-02,  1.2173e-02, -5.1525e-01, -7.9187e-01,\n",
       "          1.0615e-01,  3.5378e-01,  8.4967e-01, -7.1162e-01,  1.6437e-01],\n",
       "        [-7.4881e-02, -1.1879e-01, -2.0401e-01, -1.7514e-01,  1.0717e-01,\n",
       "         -1.1608e-01, -1.5420e-01, -2.2511e-01, -1.0354e-01,  3.1254e-01],\n",
       "        [-6.8902e-02,  2.0705e-02, -2.0621e-01, -4.5581e-01,  2.1384e-01,\n",
       "         -5.0474e-01,  2.1816e-01, -2.5863e-01, -1.5042e-01,  7.0252e-01],\n",
       "        [-3.5168e-01, -2.9223e-01, -2.5169e-01,  3.9577e-01, -1.0652e-01,\n",
       "         -5.0892e-01, -1.9153e-01,  2.5270e-01,  5.1755e-01, -1.0398e+00],\n",
       "        [-3.4958e-01, -9.5300e-02,  9.4845e-02,  4.4709e-03, -3.8162e-02,\n",
       "         -1.9442e-01,  3.0413e-01,  4.7104e-02,  7.6507e-03, -6.2304e-01],\n",
       "        [ 8.1294e-02, -4.6534e-03, -1.5377e-01, -2.6653e-01,  2.8994e-02,\n",
       "         -3.6564e-01, -1.9400e-01,  2.4078e-01, -6.4477e-02,  4.3032e-01]],\n",
       "       grad_fn=<AddmmBackward0>)"
      ]
     },
     "execution_count": 5,
     "metadata": {},
     "output_type": "execute_result"
    }
   ],
   "source": [
    "class SimpleVisionModel(nn.Module):\n",
    "    def __init__(self):\n",
    "        super().__init__()\n",
    "        self.flatten = nn.Flatten()\n",
    "        self.classifier = nn.Sequential(\n",
    "            nn.Linear(in_features=784, out_features=10), # in_features = number of features in a data sample (784 pixels)\n",
    "            nn.Linear(in_features=10, out_features=10),\n",
    "        )\n",
    "    def forward(self,X):\n",
    "        return self.classifier(self.flatten(X))\n",
    "\n",
    "model = SimpleVisionModel()\n",
    "model(torch.randn((64,1,28,28)))"
   ]
  },
  {
   "attachments": {},
   "cell_type": "markdown",
   "metadata": {},
   "source": [
    "# Train the model"
   ]
  },
  {
   "cell_type": "code",
   "execution_count": 6,
   "metadata": {},
   "outputs": [
    {
     "name": "stderr",
     "output_type": "stream",
     "text": [
      "  0%|          | 0/10 [00:00<?, ?it/s]"
     ]
    },
    {
     "name": "stdout",
     "output_type": "stream",
     "text": [
      "Epoch: 0\n",
      "-------\n",
      "Looked at 0/59999 samples\n",
      "Looked at 25600/59999 samples\n",
      "Looked at 51200/59999 samples\n"
     ]
    },
    {
     "name": "stderr",
     "output_type": "stream",
     "text": [
      " 10%|█         | 1/10 [00:16<02:30, 16.69s/it]"
     ]
    },
    {
     "name": "stdout",
     "output_type": "stream",
     "text": [
      "\n",
      "Train loss: 0.6319441768978196 | Test loss: 0.49992, Test acc: 83.04%\n",
      "\n",
      "Epoch: 1\n",
      "-------\n",
      "Looked at 0/59999 samples\n",
      "Looked at 25600/59999 samples\n",
      "Looked at 51200/59999 samples\n"
     ]
    },
    {
     "name": "stderr",
     "output_type": "stream",
     "text": [
      " 20%|██        | 2/10 [00:30<01:58, 14.77s/it]"
     ]
    },
    {
     "name": "stdout",
     "output_type": "stream",
     "text": [
      "\n",
      "Train loss: 0.48620975152579454 | Test loss: 0.47588, Test acc: 83.85%\n",
      "\n",
      "Epoch: 2\n",
      "-------\n",
      "Looked at 0/59999 samples\n",
      "Looked at 25600/59999 samples\n",
      "Looked at 51200/59999 samples\n"
     ]
    },
    {
     "name": "stderr",
     "output_type": "stream",
     "text": [
      " 30%|███       | 3/10 [00:44<01:43, 14.75s/it]"
     ]
    },
    {
     "name": "stdout",
     "output_type": "stream",
     "text": [
      "\n",
      "Train loss: 0.4632593016507529 | Test loss: 0.46388, Test acc: 84.09%\n",
      "\n",
      "Epoch: 3\n",
      "-------\n",
      "Looked at 0/59999 samples\n",
      "Looked at 25600/59999 samples\n",
      "Looked at 51200/59999 samples\n"
     ]
    },
    {
     "name": "stderr",
     "output_type": "stream",
     "text": [
      " 40%|████      | 4/10 [01:03<01:37, 16.17s/it]"
     ]
    },
    {
     "name": "stdout",
     "output_type": "stream",
     "text": [
      "\n",
      "Train loss: 0.44889482530131775 | Test loss: 0.46524, Test acc: 83.75%\n",
      "\n",
      "Epoch: 4\n",
      "-------\n",
      "Looked at 0/59999 samples\n",
      "Looked at 25600/59999 samples\n",
      "Looked at 51200/59999 samples\n"
     ]
    },
    {
     "name": "stderr",
     "output_type": "stream",
     "text": [
      " 50%|█████     | 5/10 [01:21<01:25, 17.10s/it]"
     ]
    },
    {
     "name": "stdout",
     "output_type": "stream",
     "text": [
      "\n",
      "Train loss: 0.4379536855354238 | Test loss: 0.45261, Test acc: 84.51%\n",
      "\n",
      "Epoch: 5\n",
      "-------\n",
      "Looked at 0/59999 samples\n",
      "Looked at 25600/59999 samples\n",
      "Looked at 51200/59999 samples\n"
     ]
    },
    {
     "name": "stderr",
     "output_type": "stream",
     "text": [
      " 60%|██████    | 6/10 [01:35<01:03, 15.81s/it]"
     ]
    },
    {
     "name": "stdout",
     "output_type": "stream",
     "text": [
      "\n",
      "Train loss: 0.4327825935029272 | Test loss: 0.48554, Test acc: 83.20%\n",
      "\n",
      "Epoch: 6\n",
      "-------\n",
      "Looked at 0/59999 samples\n",
      "Looked at 25600/59999 samples\n",
      "Looked at 51200/59999 samples\n"
     ]
    },
    {
     "name": "stderr",
     "output_type": "stream",
     "text": [
      " 70%|███████   | 7/10 [01:49<00:45, 15.25s/it]"
     ]
    },
    {
     "name": "stdout",
     "output_type": "stream",
     "text": [
      "\n",
      "Train loss: 0.42687019114809505 | Test loss: 0.47575, Test acc: 83.84%\n",
      "\n",
      "Epoch: 7\n",
      "-------\n",
      "Looked at 0/59999 samples\n",
      "Looked at 25600/59999 samples\n",
      "Looked at 51200/59999 samples\n"
     ]
    },
    {
     "name": "stderr",
     "output_type": "stream",
     "text": [
      " 80%|████████  | 8/10 [02:04<00:30, 15.10s/it]"
     ]
    },
    {
     "name": "stdout",
     "output_type": "stream",
     "text": [
      "\n",
      "Train loss: 0.42392583807775464 | Test loss: 0.45054, Test acc: 85.07%\n",
      "\n",
      "Epoch: 8\n",
      "-------\n",
      "Looked at 0/59999 samples\n",
      "Looked at 25600/59999 samples\n",
      "Looked at 51200/59999 samples\n"
     ]
    },
    {
     "name": "stderr",
     "output_type": "stream",
     "text": [
      " 90%|█████████ | 9/10 [02:21<00:15, 15.95s/it]"
     ]
    },
    {
     "name": "stdout",
     "output_type": "stream",
     "text": [
      "\n",
      "Train loss: 0.41942479556748097 | Test loss: 0.46572, Test acc: 83.27%\n",
      "\n",
      "Epoch: 9\n",
      "-------\n",
      "Looked at 0/59999 samples\n",
      "Looked at 25600/59999 samples\n",
      "Looked at 51200/59999 samples\n"
     ]
    },
    {
     "name": "stderr",
     "output_type": "stream",
     "text": [
      "100%|██████████| 10/10 [02:36<00:00, 15.63s/it]"
     ]
    },
    {
     "name": "stdout",
     "output_type": "stream",
     "text": [
      "\n",
      "Train loss: 0.41640605868052827 | Test loss: 0.43321, Test acc: 85.55%\n",
      "\n"
     ]
    },
    {
     "name": "stderr",
     "output_type": "stream",
     "text": [
      "\n"
     ]
    }
   ],
   "source": [
    "optimizer = optim.SGD(model.parameters(),lr=0.1)\n",
    "loss_fn = nn.CrossEntropyLoss()\n",
    "accuracy_fn = torchmetrics.Accuracy(task=\"multiclass\", num_classes=10)\n",
    "EPOCHS = 10\n",
    "\n",
    "torch.manual_seed(42)\n",
    "\n",
    "\n",
    "epochs_counts = []\n",
    "training_losses = []\n",
    "testing_losses = []\n",
    "training_accuracies = []\n",
    "testing_accuracies = []\n",
    "for epoch in tqdm.tqdm(range(EPOCHS)):\n",
    "    print(f\"Epoch: {epoch}\\n-------\")\n",
    "    epochs_counts.append(epoch)\n",
    "    # train\n",
    "    train_loss,train_acc = 0,0\n",
    "    for batch, (X, y) in enumerate(train_dataloader):\n",
    "        model.train()\n",
    "        y_pred = model(X)\n",
    "        loss = loss_fn(y_pred,y)\n",
    "        train_loss += loss.item()\n",
    "        train_acc += accuracy_fn(y_pred.argmax(dim=1).squeeze(),y) * 100\n",
    "        optimizer.zero_grad()\n",
    "        loss.backward()\n",
    "        optimizer.step()\n",
    "        if batch % 400 == 0:\n",
    "            print(f\"Looked at {batch * len(X)}/{len(train_dataloader.dataset)} samples\")\n",
    "\n",
    "    train_loss /= len(train_dataloader)\n",
    "    train_acc /= len(train_dataloader)\n",
    "    training_losses.append(train_loss)\n",
    "    training_accuracies.append(train_acc)\n",
    "\n",
    "\n",
    "    # test\n",
    "    test_loss, test_acc = 0, 0 \n",
    "    model.eval()\n",
    "    with torch.inference_mode():\n",
    "        for (X,y) in test_dataloader:\n",
    "            y_test_pred = model(X)\n",
    "            test_loss += loss_fn(y_test_pred,y).item()\n",
    "            test_acc += accuracy_fn(y_test_pred.argmax(dim=1).squeeze(),y).item() * 100\n",
    "    \n",
    "    test_loss /= len(test_dataloader)\n",
    "    test_acc /= len(test_dataloader)\n",
    "    testing_losses.append(test_loss)\n",
    "    testing_accuracies.append(test_acc * 100)\n",
    "\n",
    "    print(f\"\\nTrain loss: {train_loss} | Test loss: {test_loss:.5f}, Test acc: {test_acc:.2f}%\\n\")\n"
   ]
  },
  {
   "cell_type": "code",
   "execution_count": 10,
   "metadata": {},
   "outputs": [
    {
     "data": {
      "text/plain": [
       "<matplotlib.legend.Legend at 0x7ff3139e4f50>"
      ]
     },
     "execution_count": 10,
     "metadata": {},
     "output_type": "execute_result"
    },
    {
     "data": {
      "image/png": "[encoded data removed]",
      "text/plain": [
       "<Figure size 640x480 with 1 Axes>"
      ]
     },
     "metadata": {},
     "output_type": "display_data"
    }
   ],
   "source": [
    "plt.plot(epochs_counts,training_losses,label=\"training\")\n",
    "plt.plot(epochs_counts,testing_losses,label=\"validating\")\n",
    "plt.legend()"
   ]
  },
  {
   "cell_type": "code",
   "execution_count": null,
   "metadata": {},
   "outputs": [],
   "source": []
  },
  {
   "cell_type": "code",
   "execution_count": null,
   "metadata": {},
   "outputs": [],
   "source": []
  }
 ],
 "metadata": {
  "kernelspec": {
   "display_name": "env",
   "language": "python",
   "name": "python3"
  },
  "language_info": {
   "codemirror_mode": {
    "name": "ipython",
    "version": 3
   },
   "file_extension": ".py",
   "mimetype": "text/x-python",
   "name": "python",
   "nbconvert_exporter": "python",
   "pygments_lexer": "ipython3",
   "version": "3.11.2"
  },
  "orig_nbformat": 4
 },
 "nbformat": 4,
 "nbformat_minor": 2
}
