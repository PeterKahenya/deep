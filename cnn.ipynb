{
 "cells": [
  {
   "attachments": {},
   "cell_type": "markdown",
   "metadata": {},
   "source": [
    "Aiming to reacreate the VGG 19 network. <br>\n",
    "Input is 10,3,224,224 dims in the order B,C,W,H <br>\n",
    "Preprocessing of images was done by subtracting the mean RGB value, computed on the training set, from each pixel. <BR>\n",
    "\n",
    "[Architecture](https://gist.github.com/ksimonyan/211839e770f7b538e2d8#file-readme-md) <br>"
   ]
  },
  {
   "cell_type": "code",
   "execution_count": 51,
   "metadata": {},
   "outputs": [],
   "source": [
    "import os\n",
    "import torch\n",
    "from torch import nn,optim\n",
    "from torch.utils.data import Dataset,DataLoader\n",
    "from torchvision import io\n",
    "import pandas as pd\n",
    "import tqdm\n",
    "import csv"
   ]
  },
  {
   "attachments": {},
   "cell_type": "markdown",
   "metadata": {},
   "source": [
    "# Prepare and load the dataset"
   ]
  },
  {
   "attachments": {},
   "cell_type": "markdown",
   "metadata": {},
   "source": [
    "## Data Preparation"
   ]
  },
  {
   "cell_type": "code",
   "execution_count": 48,
   "metadata": {},
   "outputs": [],
   "source": [
    "# unzip the file\n",
    "import zipfile\n",
    "import shutil\n",
    "\n",
    "\n",
    "with zipfile.ZipFile(\"./data/caltech256.zip\",\"r\") as zip:\n",
    "    zip.extractall(\"./data/caltech256/\")\n",
    "shutil.rmtree(\"./data/caltech256/256_objectcategories/\")\n",
    "shutil.move(\"./data/caltech256/256_ObjectCategories/\",\"./data/caltech256/train/\")\n",
    "os.mkdir(\"./data/caltech256/test/\")"
   ]
  },
  {
   "cell_type": "code",
   "execution_count": 49,
   "metadata": {},
   "outputs": [],
   "source": [
    "# train/test split\n",
    "for a,_,files in os.walk(\"./data/caltech256/train/\"):\n",
    "    for f in files[:5]:\n",
    "        if not os.path.exists(\"./data/caltech256/test/\"+os.path.basename(a)+\"/\"):\n",
    "            os.mkdir(\"./data/caltech256/test/\"+os.path.basename(a)+\"/\") \n",
    "        os.rename(a+\"/\"+f,\"./data/caltech256/test/\"+os.path.basename(a)+\"/\"+f)"
   ]
  },
  {
   "cell_type": "code",
   "execution_count": 50,
   "metadata": {},
   "outputs": [],
   "source": [
    "# train/test labels\n",
    "train_labels = []\n",
    "test_labels = []\n",
    "\n",
    "for dirpath,_,files in os.walk(\"./data/caltech256/train/\"):\n",
    "    if len(files)>0:\n",
    "        for f in files:\n",
    "            path = dirpath+\"/\"+f\n",
    "            label = int(os.path.basename(dirpath).split(\".\")[0])\n",
    "            train_labels.append([path,label])\n",
    "\n",
    "with open('./data/caltech256/train_labels.csv', 'w', newline='') as csvfile:\n",
    "    writer = csv.writer(csvfile)\n",
    "    writer.writerows(train_labels)\n",
    "\n",
    "\n",
    "for dirpath,_,files in os.walk(\"./data/caltech256/test/\"):\n",
    "    if len(files)>0:\n",
    "        for f in files:\n",
    "            path = dirpath+\"/\"+f\n",
    "            label = int(os.path.basename(dirpath).split(\".\")[0])\n",
    "            test_labels.append([path,label])\n",
    "\n",
    "with open('./data/caltech256/test_labels.csv', 'w', newline='') as csvfile:\n",
    "    writer = csv.writer(csvfile)\n",
    "    writer.writerows(test_labels)"
   ]
  },
  {
   "attachments": {},
   "cell_type": "markdown",
   "metadata": {},
   "source": [
    "## Datasets and Dataloaders"
   ]
  },
  {
   "cell_type": "code",
   "execution_count": 58,
   "metadata": {},
   "outputs": [
    {
     "name": "stdout",
     "output_type": "stream",
     "text": [
      "29322 1284\n"
     ]
    },
    {
     "data": {
      "text/plain": [
       "(tensor([[[0.1059, 0.1098, 0.1059,  ..., 0.6000, 0.6000, 0.5961],\n",
       "          [0.1020, 0.1020, 0.1020,  ..., 0.6000, 0.6000, 0.5961],\n",
       "          [0.0941, 0.0941, 0.0941,  ..., 0.6039, 0.6000, 0.6000],\n",
       "          ...,\n",
       "          [0.2667, 0.2784, 0.2941,  ..., 0.0784, 0.0784, 0.0784],\n",
       "          [0.2392, 0.2902, 0.2667,  ..., 0.0784, 0.0784, 0.0784],\n",
       "          [0.2431, 0.2863, 0.2588,  ..., 0.0784, 0.0784, 0.0784]],\n",
       " \n",
       "         [[0.1176, 0.1216, 0.1176,  ..., 0.7098, 0.7098, 0.7059],\n",
       "          [0.1137, 0.1137, 0.1137,  ..., 0.7098, 0.7098, 0.7059],\n",
       "          [0.1059, 0.1059, 0.1059,  ..., 0.7137, 0.7098, 0.7098],\n",
       "          ...,\n",
       "          [0.3098, 0.3216, 0.3373,  ..., 0.0588, 0.0588, 0.0588],\n",
       "          [0.2824, 0.3333, 0.3098,  ..., 0.0588, 0.0588, 0.0588],\n",
       "          [0.2863, 0.3294, 0.3020,  ..., 0.0588, 0.0588, 0.0588]],\n",
       " \n",
       "         [[0.1373, 0.1412, 0.1373,  ..., 0.7569, 0.7569, 0.7529],\n",
       "          [0.1333, 0.1333, 0.1333,  ..., 0.7569, 0.7569, 0.7529],\n",
       "          [0.1255, 0.1255, 0.1255,  ..., 0.7608, 0.7569, 0.7569],\n",
       "          ...,\n",
       "          [0.3255, 0.3373, 0.3451,  ..., 0.0824, 0.0824, 0.0824],\n",
       "          [0.2980, 0.3490, 0.3176,  ..., 0.0824, 0.0824, 0.0824],\n",
       "          [0.3020, 0.3451, 0.3098,  ..., 0.0824, 0.0824, 0.0824]]]),\n",
       " 187)"
      ]
     },
     "execution_count": 58,
     "metadata": {},
     "output_type": "execute_result"
    }
   ],
   "source": [
    "class ImageDatasetCustom(Dataset):\n",
    "    def __init__(self,image_labels,transform=None,target_transform=None):\n",
    "        self.image_labels = pd.read_csv(image_labels)\n",
    "        self.transform = transform\n",
    "        self.target_transform = target_transform\n",
    "    \n",
    "    def __len__(self):\n",
    "        return len(self.image_labels)\n",
    "    \n",
    "    def __getitem__(self, idx):\n",
    "        image = io.read_image(self.image_labels.iloc[idx, 0])/255\n",
    "        label = self.image_labels.iloc[idx, 1]\n",
    "        if self.transform:\n",
    "            image = self.transform(image)\n",
    "        if self.target_transform:\n",
    "            label = self.target_transform(label)\n",
    "        return image, label\n",
    "\n",
    "train_dataset = ImageDatasetCustom(\"./data/caltech256/train_labels.csv\")\n",
    "                                \n",
    "test_dataset = ImageDatasetCustom(\"./data/caltech256/test_labels.csv\")\n",
    "\n",
    "train_dataloader = DataLoader(train_dataset, batch_size=64, shuffle=True)\n",
    "test_dataloader = DataLoader(test_dataset, batch_size=64, shuffle=False)\n",
    "print(len(train_dataset),len(test_dataset))\n",
    "test_dataset[0]"
   ]
  },
  {
   "cell_type": "code",
   "execution_count": null,
   "metadata": {},
   "outputs": [],
   "source": []
  },
  {
   "cell_type": "code",
   "execution_count": null,
   "metadata": {},
   "outputs": [],
   "source": []
  },
  {
   "attachments": {},
   "cell_type": "markdown",
   "metadata": {},
   "source": []
  }
 ],
 "metadata": {
  "kernelspec": {
   "display_name": "env",
   "language": "python",
   "name": "python3"
  },
  "language_info": {
   "codemirror_mode": {
    "name": "ipython",
    "version": 3
   },
   "file_extension": ".py",
   "mimetype": "text/x-python",
   "name": "python",
   "nbconvert_exporter": "python",
   "pygments_lexer": "ipython3",
   "version": "3.11.2"
  },
  "orig_nbformat": 4
 },
 "nbformat": 4,
 "nbformat_minor": 2
}
