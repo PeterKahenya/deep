{
 "cells": [
  {
   "cell_type": "code",
   "execution_count": 1,
   "metadata": {},
   "outputs": [
    {
     "name": "stdout",
     "output_type": "stream",
     "text": [
      "2.0.1+cpu\n",
      "0.15.2+cpu\n",
      "0.15.2+cpu\n",
      "2.0.2+cpu\n"
     ]
    },
    {
     "data": {
      "text/plain": [
       "'cpu'"
      ]
     },
     "execution_count": 1,
     "metadata": {},
     "output_type": "execute_result"
    }
   ],
   "source": [
    "import torch\n",
    "import torchvision\n",
    "import torchtext\n",
    "import torchaudio\n",
    "\n",
    "print(torch.__version__)\n",
    "print(torchvision.__version__)\n",
    "print(torchtext.__version__)\n",
    "print(torchaudio.__version__)\n",
    "device = \"cuda\" if torch.cuda.is_available() else \"cpu\"\n",
    "device"
   ]
  },
  {
   "attachments": {},
   "cell_type": "markdown",
   "metadata": {},
   "source": [
    "# Creating Tensors"
   ]
  },
  {
   "cell_type": "code",
   "execution_count": 2,
   "metadata": {},
   "outputs": [
    {
     "name": "stdout",
     "output_type": "stream",
     "text": [
      "tensor(7)\n",
      "7\n",
      "0\n"
     ]
    }
   ],
   "source": [
    "# Scalar\n",
    "scalar = torch.tensor(7)\n",
    "print(scalar)\n",
    "print(scalar.item())\n",
    "print(scalar.ndim)"
   ]
  },
  {
   "cell_type": "code",
   "execution_count": 3,
   "metadata": {},
   "outputs": [
    {
     "name": "stdout",
     "output_type": "stream",
     "text": [
      "tensor([7, 9])\n",
      "1\n",
      "torch.Size([2])\n"
     ]
    }
   ],
   "source": [
    "# Vector\n",
    "vector = torch.tensor([7,9])\n",
    "print(vector)\n",
    "print(vector.ndim)\n",
    "print(vector.shape)"
   ]
  },
  {
   "cell_type": "code",
   "execution_count": 4,
   "metadata": {},
   "outputs": [
    {
     "name": "stdout",
     "output_type": "stream",
     "text": [
      "tensor([[ 7,  8],\n",
      "        [ 9, 10]])\n",
      "2\n",
      "torch.Size([2, 2])\n",
      "tensor([7, 8])\n",
      "tensor([ 9, 10])\n"
     ]
    }
   ],
   "source": [
    "# Matrix\n",
    "matrix = torch.tensor([\n",
    "                        [7,8],\n",
    "                        [9,10]\n",
    "                      ])\n",
    "print(matrix)\n",
    "print(matrix.ndim)\n",
    "print(matrix.shape)\n",
    "print(matrix[0])\n",
    "print(matrix[1])\n"
   ]
  },
  {
   "cell_type": "code",
   "execution_count": 5,
   "metadata": {},
   "outputs": [
    {
     "name": "stdout",
     "output_type": "stream",
     "text": [
      "tensor([[[1, 2, 3],\n",
      "         [3, 4, 5],\n",
      "         [6, 7, 8]]])\n",
      "3\n",
      "torch.Size([1, 3, 3])\n",
      "tensor([[1, 2, 3],\n",
      "        [3, 4, 5],\n",
      "        [6, 7, 8]])\n"
     ]
    }
   ],
   "source": [
    "# Tensors\n",
    "tensor = torch.tensor([[[1,2,3],\n",
    "                       [3,4,5],\n",
    "                       [6,7,8]]])\n",
    "                       \n",
    "print(tensor)\n",
    "print(tensor.ndim)\n",
    "print(tensor.shape)\n",
    "print(tensor[0])"
   ]
  },
  {
   "cell_type": "code",
   "execution_count": 6,
   "metadata": {},
   "outputs": [
    {
     "name": "stdout",
     "output_type": "stream",
     "text": [
      "tensor([[[0.0968, 0.8569, 0.3956],\n",
      "         [0.5718, 0.1963, 0.4176],\n",
      "         [0.9427, 0.6887, 0.3958],\n",
      "         [0.2244, 0.4652, 0.7829],\n",
      "         [0.6279, 0.9709, 0.9443],\n",
      "         [0.5015, 0.3458, 0.6269]],\n",
      "\n",
      "        [[0.7248, 0.7626, 0.5409],\n",
      "         [0.6766, 0.0755, 0.3666],\n",
      "         [0.6298, 0.0542, 0.0376],\n",
      "         [0.5998, 0.6465, 0.7281],\n",
      "         [0.3225, 0.8287, 0.6599],\n",
      "         [0.3514, 0.2815, 0.5109]]])\n",
      "3\n",
      "torch.Size([2, 6, 3])\n",
      "tensor([[0.0968, 0.8569, 0.3956],\n",
      "        [0.5718, 0.1963, 0.4176],\n",
      "        [0.9427, 0.6887, 0.3958],\n",
      "        [0.2244, 0.4652, 0.7829],\n",
      "        [0.6279, 0.9709, 0.9443],\n",
      "        [0.5015, 0.3458, 0.6269]])\n"
     ]
    }
   ],
   "source": [
    "#RANDOM Tensors\n",
    "random_tensor = torch.rand(2,6,3)\n",
    "print(random_tensor)\n",
    "print(random_tensor.ndim)\n",
    "print(random_tensor.shape)\n",
    "print(random_tensor[0])"
   ]
  },
  {
   "cell_type": "code",
   "execution_count": 7,
   "metadata": {},
   "outputs": [
    {
     "name": "stdout",
     "output_type": "stream",
     "text": [
      "torch.int64\n"
     ]
    }
   ],
   "source": [
    "# ONES, ZEROS, ARANGE\n",
    "ones = torch.ones(2,3)\n",
    "# print(ones)\n",
    "zeros = torch.zeros(3,4)\n",
    "# print(zeros)\n",
    "one_to_thousand = torch.arange(start=0,end=1000,step=5)\n",
    "# print(one_to_thousand)\n",
    "zeros_like = torch.zeros_like(input=one_to_thousand)\n",
    "# print(zeros_like)\n",
    "print(one_to_thousand.dtype)\n",
    "# print(one_to_thousand)"
   ]
  },
  {
   "cell_type": "code",
   "execution_count": 8,
   "metadata": {},
   "outputs": [
    {
     "data": {
      "text/plain": [
       "(torch.Size([3]), torch.float64, device(type='cpu'))"
      ]
     },
     "execution_count": 8,
     "metadata": {},
     "output_type": "execute_result"
    }
   ],
   "source": [
    "# dtype, device, requires_grad, pin_memory\n",
    "zero_to_thousand = torch.arange(start=0,end=1000,step=5)\n",
    "\n",
    "# dtype\n",
    "# print(zero_to_thousand.dtype)\n",
    "# converted_tensor = zero_to_thousand.type(torch.float) # can also be supplied as dtype= during tensor creation\n",
    "# print(converted_tensor.dtype)\n",
    "# print(converted_tensor)\n",
    "\n",
    "# device\n",
    "# print(zero_to_thousand.device)\n",
    "# converted_tensor = zero_to_thousand.to(device) # can also be supplied as device= during tensor creation\n",
    "# print(converted_tensor.device)\n",
    "\n",
    "# Default datatype for tensors is float32\n",
    "float_32_tensor = torch.tensor([3.0, 6.0, 9.0],\n",
    "                               dtype=torch.float64, # defaults to None, which is torch.float32 or whatever datatype is passed\n",
    "                               device=device, # defaults to None, which uses the default tensor type\n",
    "                               requires_grad=False) # if True, operations performed on the tensor are recorded \n",
    "\n",
    "float_32_tensor.shape, float_32_tensor.dtype, float_32_tensor.device\n"
   ]
  },
  {
   "attachments": {},
   "cell_type": "markdown",
   "metadata": {},
   "source": [
    "# Tensor Operations"
   ]
  },
  {
   "cell_type": "code",
   "execution_count": 9,
   "metadata": {},
   "outputs": [
    {
     "name": "stdout",
     "output_type": "stream",
     "text": [
      "tensor([11, 12, 13])\n",
      "tensor([11, 12, 13])\n",
      "tensor([11, 22, 13])\n",
      "\n",
      "tensor([-9, -8, -7])\n",
      "tensor([-9, -8, -7])\n",
      "tensor([ -9, -18,  -7])\n",
      "\n",
      "tensor([10, 20, 30])\n",
      "tensor([10, 20, 30])\n",
      "tensor([10, 40, 30])\n",
      "\n",
      "tensor([0.1000, 0.2000, 0.3000])\n",
      "tensor([0.1000, 0.2000, 0.3000])\n",
      "tensor([0.1000, 0.1000, 0.3000])\n",
      "\n",
      "tensor([0, 0, 0])\n",
      "tensor([0, 0, 0])\n",
      "tensor([0, 0, 0])\n"
     ]
    }
   ],
   "source": [
    "# Tensor operations\n",
    "# addition, subtraction, elem-wise mult, division are done element-wise\n",
    "tenny = torch.tensor([1,2,3])\n",
    "\n",
    "print(tenny + 10) # same as torch.add()\n",
    "print(tenny + torch.tensor([10])) # same as torch.add()\n",
    "print(tenny + torch.tensor([10,20,10])) # same as torch.add() these two tensors must match in dim 0\n",
    "print()\n",
    "print(tenny - 10) # same as torch.sub()\n",
    "print(tenny - torch.tensor([10])) # same as torch.sub()\n",
    "print(tenny - torch.tensor([10,20,10])) # same as torch.sub()\n",
    "print()\n",
    "print(tenny * 10) # same as torch.mul()\n",
    "print(tenny * torch.tensor([10])) # same as torch.mul()\n",
    "print(tenny * torch.tensor([10,20,10])) # same as torch.mul()\n",
    "print()\n",
    "print(tenny / 10) # same as torch.div()\n",
    "print(tenny / torch.tensor([10])) # same as torch.div()\n",
    "print(tenny / torch.tensor([10,20,10])) # same as torch.div()\n",
    "print()\n",
    "print(tenny // 7) # same as torch.floor_divide()\n",
    "print(tenny // torch.tensor([10])) # same as torch.floor_divide()\n",
    "print(tenny // torch.tensor([10,20,10])) # same as torch.floor_divide()\n"
   ]
  },
  {
   "cell_type": "code",
   "execution_count": 10,
   "metadata": {},
   "outputs": [
    {
     "name": "stdout",
     "output_type": "stream",
     "text": [
      "tensor(14)\n",
      "torch.Size([3, 5])\n",
      "tensor([[ 1.6582,  2.6346,  1.9378,  1.2950, -4.2695],\n",
      "        [-0.9646, -2.3584, -0.5811,  1.6182,  2.0142],\n",
      "        [-0.8814, -0.1755,  1.9099, -2.7449,  2.2097]])\n",
      "torch.Size([2, 3, 5])\n",
      "tensor([[[-2.8773,  3.6855, -0.4120, -1.2367, -0.1421],\n",
      "         [ 0.8001,  5.7781,  3.7129, -1.3995, -2.8679],\n",
      "         [-1.7364,  0.3754, -1.5317, -0.1240,  0.7024]],\n",
      "\n",
      "        [[-0.1214, -0.7844,  0.4186, -0.9060,  0.3738],\n",
      "         [ 0.5406, -0.9285,  0.0581,  0.4693,  1.2101],\n",
      "         [ 2.8592, -1.4266, -0.6189, -3.9236,  1.6685]]])\n"
     ]
    }
   ],
   "source": [
    "print(torch.matmul(tenny, tenny)) # equivalent to dot product equivalent to tensor @ tensor\n",
    "# Create two 2D tensors of shapes (3, 4) and (4, 5)\n",
    "A = torch.randn(3, 4)\n",
    "B = torch.randn(4, 5)\n",
    "\n",
    "C = torch.matmul(A, B)\n",
    "C = A @ B\n",
    "C = A.matmul(B)\n",
    "\n",
    "print(C.shape)\n",
    "print(C)\n",
    "\n",
    "# Create two 3D tensors of shapes (2, 3, 4) and (2, 4, 5)\n",
    "A = torch.randn(2, 3, 4) #(B1, M, N)\n",
    "B = torch.randn(2, 4, 5) #(B2, N, P)\n",
    "\n",
    "# Perform batched matrix multiplication\n",
    "C = torch.matmul(A, B) #(max(B1, B2), M, P) If B1 and B2 are not equal, and none of them is 1, you will get a size mismatch error. \n",
    "C = torch.bmm(A, B) #(max(B1, B2), M, P) If B1 and B2 are not equal, and none of them is 1, you will get a size mismatch error. \n",
    "\n",
    "print(C.shape)\n",
    "print(C)"
   ]
  },
  {
   "cell_type": "code",
   "execution_count": 11,
   "metadata": {},
   "outputs": [
    {
     "name": "stdout",
     "output_type": "stream",
     "text": [
      "torch.Size([2, 3, 4])\n",
      "tensor([[[ 1.3610,  0.3154, -1.5615, -0.3373],\n",
      "         [-0.3074, -0.3590,  0.3805,  0.1832],\n",
      "         [ 0.7051,  1.0087,  0.2206, -0.8162]],\n",
      "\n",
      "        [[-0.4327,  0.0604, -0.4278, -0.7020],\n",
      "         [-0.1862,  0.5522, -1.4698,  1.1582],\n",
      "         [ 0.8324,  1.0840,  0.3081,  0.3766]]])\n",
      "torch.Size([3, 2, 4])\n",
      "tensor([[[ 1.3610,  0.3154, -1.5615, -0.3373],\n",
      "         [-0.4327,  0.0604, -0.4278, -0.7020]],\n",
      "\n",
      "        [[-0.3074, -0.3590,  0.3805,  0.1832],\n",
      "         [-0.1862,  0.5522, -1.4698,  1.1582]],\n",
      "\n",
      "        [[ 0.7051,  1.0087,  0.2206, -0.8162],\n",
      "         [ 0.8324,  1.0840,  0.3081,  0.3766]]])\n",
      "torch.Size([4, 3, 2])\n",
      "tensor([[[ 1.3610, -0.4327],\n",
      "         [-0.3074, -0.1862],\n",
      "         [ 0.7051,  0.8324]],\n",
      "\n",
      "        [[ 0.3154,  0.0604],\n",
      "         [-0.3590,  0.5522],\n",
      "         [ 1.0087,  1.0840]],\n",
      "\n",
      "        [[-1.5615, -0.4278],\n",
      "         [ 0.3805, -1.4698],\n",
      "         [ 0.2206,  0.3081]],\n",
      "\n",
      "        [[-0.3373, -0.7020],\n",
      "         [ 0.1832,  1.1582],\n",
      "         [-0.8162,  0.3766]]])\n"
     ]
    }
   ],
   "source": [
    "# Transpose\n",
    "\n",
    "# A = torch.randn((3,5))\n",
    "# print(A.shape)\n",
    "# print(A)\n",
    "# A_T = torch.transpose(A,0,1) # equivalent to A.T\n",
    "# print(A_T.shape)\n",
    "# print(A_T)\n",
    "\n",
    "# A = torch.randn((3,5,2,3))\n",
    "# print(A.shape)\n",
    "# # print(A)\n",
    "# A_T = torch.transpose(A,0,1)\n",
    "# print(A_T.shape)\n",
    "# # print(A_T)\n",
    "# A_T = torch.transpose(A,0,2)\n",
    "# print(A_T.shape)\n",
    "# # print(A_T)\n",
    "\n",
    "A = torch.randn((2,3,4))\n",
    "print(A.shape)\n",
    "print(A)\n",
    "A_T = torch.transpose(A,0,1)\n",
    "print(A_T.shape)\n",
    "print(A_T)\n",
    "A_T = torch.transpose(A,0,2)\n",
    "print(A_T.shape)\n",
    "print(A_T)"
   ]
  },
  {
   "cell_type": "code",
   "execution_count": 12,
   "metadata": {},
   "outputs": [
    {
     "name": "stdout",
     "output_type": "stream",
     "text": [
      "tensor([ 1,  6, 11, 16, 21, 26, 31, 36, 41, 46, 51, 56, 61, 66, 71, 76, 81, 86,\n",
      "        91, 96])\n",
      "tensor(1)\n",
      "tensor(96)\n",
      "tensor(48.5000, dtype=torch.float64)\n",
      "tensor(970)\n",
      "\n",
      "tensor([[ 1,  6, 11, 16, 21],\n",
      "        [26, 31, 36, 41, 46],\n",
      "        [51, 56, 61, 66, 71],\n",
      "        [76, 81, 86, 91, 96]])\n",
      "torch.return_types.min(\n",
      "values=tensor([ 1, 26, 51, 76]),\n",
      "indices=tensor([0, 0, 0, 0]))\n",
      "torch.return_types.max(\n",
      "values=tensor([76, 81, 86, 91, 96]),\n",
      "indices=tensor([3, 3, 3, 3, 3]))\n",
      "tensor([11., 36., 61., 86.], dtype=torch.float64)\n",
      "tensor([ 55, 180, 305, 430])\n",
      "\n",
      "tensor([[ 1,  6, 11, 16, 21],\n",
      "        [26, 31, 36, 41, 46],\n",
      "        [51, 56, 61, 66, 71],\n",
      "        [76, 81, 86, 91, 96]])\n",
      "tensor([0, 0, 0, 0])\n",
      "tensor([3, 3, 3, 3, 3])\n",
      "tensor([11., 36., 61., 86.], dtype=torch.float64)\n",
      "tensor([[0, 1, 2, 3, 4],\n",
      "        [0, 1, 2, 3, 4],\n",
      "        [0, 1, 2, 3, 4],\n",
      "        [0, 1, 2, 3, 4]])\n"
     ]
    }
   ],
   "source": [
    "# min,max,mean,sum\n",
    "A = torch.arange(1,100,5)\n",
    "print(A)\n",
    "print(torch.min(A))\n",
    "print(torch.max(A))\n",
    "print(torch.mean(A.type(torch.float64)))\n",
    "print(torch.sum(A))\n",
    "print()\n",
    "\n",
    "# min,max,mean,sum for multi-dim tensors\n",
    "A = torch.arange(1,100,5).reshape((4,5))\n",
    "print(A)\n",
    "print(torch.min(A,dim=1))\n",
    "print(torch.max(A,dim=0))\n",
    "print(torch.mean(A.type(torch.float64),dim=1))\n",
    "print(torch.sum(A,dim=-1))\n",
    "print()\n",
    "\n",
    "# argmin,argmax,mean,sum for multi-dim tensors\n",
    "A = torch.arange(1,100,5).reshape((4,5))\n",
    "print(A)\n",
    "print(torch.argmin(A,dim=1))\n",
    "print(torch.argmax(A,dim=0))\n",
    "print(torch.mean(A.type(torch.float64),dim=1))\n",
    "print(torch.argsort(A,dim=-1))"
   ]
  },
  {
   "cell_type": "code",
   "execution_count": 26,
   "metadata": {},
   "outputs": [
    {
     "name": "stdout",
     "output_type": "stream",
     "text": [
      "tensor([[ 0, 10, 20, 30, 40],\n",
      "        [50, 60, 70, 80, 90]])\n",
      "tensor([[ 0, 10],\n",
      "        [20, 30],\n",
      "        [40, 50],\n",
      "        [60, 70],\n",
      "        [80, 90]])\n",
      "tensor([[ 0, 10, 20, 30, 40, 50, 60, 70, 80, 90],\n",
      "        [ 0, 10, 20, 30, 40, 50, 60, 70, 80, 90],\n",
      "        [ 0, 10, 20, 30, 40, 50, 60, 70, 80, 90],\n",
      "        [ 0, 10, 20, 30, 40, 50, 60, 70, 80, 90],\n",
      "        [ 0, 10, 20, 30, 40, 50, 60, 70, 80, 90],\n",
      "        [ 0, 10, 20, 30, 40, 50, 60, 70, 80, 90],\n",
      "        [ 0, 10, 20, 30, 40, 50, 60, 70, 80, 90]])\n",
      "tensor([[ 0,  0,  0,  0,  0,  0,  0],\n",
      "        [10, 10, 10, 10, 10, 10, 10],\n",
      "        [20, 20, 20, 20, 20, 20, 20],\n",
      "        [30, 30, 30, 30, 30, 30, 30],\n",
      "        [40, 40, 40, 40, 40, 40, 40],\n",
      "        [50, 50, 50, 50, 50, 50, 50],\n",
      "        [60, 60, 60, 60, 60, 60, 60],\n",
      "        [70, 70, 70, 70, 70, 70, 70],\n",
      "        [80, 80, 80, 80, 80, 80, 80],\n",
      "        [90, 90, 90, 90, 90, 90, 90]])\n",
      "tensor([[ 0, 10, 20, 30, 40, 50, 60, 70, 80, 90],\n",
      "        [ 0, 10, 20, 30, 40, 50, 60, 70, 80, 90],\n",
      "        [ 0, 10, 20, 30, 40, 50, 60, 70, 80, 90],\n",
      "        [ 0, 10, 20, 30, 40, 50, 60, 70, 80, 90],\n",
      "        [ 0, 10, 20, 30, 40, 50, 60, 70, 80, 90],\n",
      "        [ 0, 10, 20, 30, 40, 50, 60, 70, 80, 90],\n",
      "        [ 0, 10, 20, 30, 40, 50, 60, 70, 80, 90]])\n",
      "tensor([ 0, 10, 20, 30, 40, 50, 60, 70, 80, 90,  0, 10, 20, 30, 40, 50, 60, 70,\n",
      "        80, 90,  0, 10, 20, 30, 40, 50, 60, 70, 80, 90,  0, 10, 20, 30, 40, 50,\n",
      "        60, 70, 80, 90,  0, 10, 20, 30, 40, 50, 60, 70, 80, 90,  0, 10, 20, 30,\n",
      "        40, 50, 60, 70, 80, 90,  0, 10, 20, 30, 40, 50, 60, 70, 80, 90])\n",
      "torch.Size([2, 3, 12])\n",
      "torch.Size([2, 3, 4, 2])\n",
      "torch.Size([2, 1, 3, 1, 4, 2])\n",
      "torch.Size([3, 2, 2, 1, 4])\n"
     ]
    }
   ],
   "source": [
    "# reshaping, viewing, stacking, spliting, squeeze, unsqueezing, permute, transpose\n",
    "A = torch.arange(0,100,10)\n",
    "print(A.reshape((2,5))) # reshaping becomes shape 2,5\n",
    "print(A.view((5,2))) # reshaping becomes shape 5,2 but does not change the original A\n",
    "print(torch.stack((A,A,A,A,A,A,A),dim=0)) # concat rows same as torch.vstack\n",
    "print(torch.stack((A,A,A,A,A,A,A),dim=1)) # concat cols\n",
    "print(torch.vstack((A,A,A,A,A,A,A))) # concat rows\n",
    "print(torch.hstack((A,A,A,A,A,A,A))) # concat rows\n",
    "B = torch.randn((2,3,4))\n",
    "C = torch.dstack((B,B,B)) # Stack tensors in sequence depthwise (along third axis).\n",
    "print(C.shape)\n",
    "A = torch.zeros((2,1,3,4,2))\n",
    "print(torch.squeeze(A).shape) # Returns a tensor with all specified dimensions of input of size 1 removed.\n",
    "print(torch.unsqueeze(A,dim=3).shape) # Returns a new tensor with a dimension of size 1 inserted at the specified position.\n",
    "print(torch.permute(A,(2,4,0,1,3)).shape) # Returns a view of the original tensor input with its dimensions permuted."
   ]
  },
  {
   "cell_type": "code",
   "execution_count": 27,
   "metadata": {},
   "outputs": [
    {
     "name": "stdout",
     "output_type": "stream",
     "text": [
      "tensor([[1, 2, 3],\n",
      "        [4, 5, 6],\n",
      "        [7, 8, 9]])\n",
      "tensor(6)\n",
      "tensor([[5, 6],\n",
      "        [8, 9]])\n",
      "tensor(8)\n"
     ]
    }
   ],
   "source": [
    "# indexing and slicing\n",
    "tensor = torch.tensor([[1, 2, 3], [4, 5, 6], [7, 8, 9]])\n",
    "print(tensor)\n",
    "element = tensor[1, 2]  # Access the element at row 1, column 2\n",
    "print(element)\n",
    "sub_tensor = tensor[1:3, 1:3]  # Access the sub-tensor from row 1 to 2 and column 1 to 2\n",
    "print(sub_tensor)\n",
    "print(tensor[2,1])"
   ]
  },
  {
   "cell_type": "code",
   "execution_count": null,
   "metadata": {},
   "outputs": [],
   "source": [
    "# Putting tensors into device and getting them out. e.g numpy does not work with gpus\n",
    "A = torch.randn((60000,768)).to(device)\n",
    "print(A)\n",
    "A.cpu().numpy()\n"
   ]
  },
  {
   "cell_type": "code",
   "execution_count": null,
   "metadata": {},
   "outputs": [],
   "source": []
  }
 ],
 "metadata": {
  "kernelspec": {
   "display_name": "env",
   "language": "python",
   "name": "python3"
  },
  "language_info": {
   "codemirror_mode": {
    "name": "ipython",
    "version": 3
   },
   "file_extension": ".py",
   "mimetype": "text/x-python",
   "name": "python",
   "nbconvert_exporter": "python",
   "pygments_lexer": "ipython3",
   "version": "3.11.2"
  },
  "orig_nbformat": 4
 },
 "nbformat": 4,
 "nbformat_minor": 2
}
