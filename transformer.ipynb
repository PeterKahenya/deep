{
 "cells": [
  {
   "attachments": {},
   "cell_type": "markdown",
   "metadata": {},
   "source": [
    "# Transformer Architecture\n",
    "Follows the \"Attention is all you need\" paper architecture"
   ]
  },
  {
   "attachments": {},
   "cell_type": "markdown",
   "metadata": {},
   "source": [
    "# Import Libraries"
   ]
  },
  {
   "cell_type": "code",
   "execution_count": 1,
   "metadata": {},
   "outputs": [],
   "source": [
    "import torch\n",
    "from torch import nn\n",
    "from torch import optim\n",
    "import math\n",
    "from torch.utils.data import Dataset, DataLoader\n",
    "from torchtext import transforms\n",
    "import numpy as np\n",
    "import pathlib\n",
    "import tqdm"
   ]
  },
  {
   "attachments": {},
   "cell_type": "markdown",
   "metadata": {},
   "source": [
    "# Data Preparation"
   ]
  },
  {
   "cell_type": "code",
   "execution_count": 2,
   "metadata": {},
   "outputs": [
    {
     "name": "stdout",
     "output_type": "stream",
     "text": [
      "Size of swahili dataset: 5000 \n",
      "Size of english dataset: 5000 \n",
      "Max swahili sentence: 249 \n",
      "Max english sentence: 233 \n",
      "['Huyo ni rafiki yako mpya?', 'Job hana hamu ya mpira wa vikapu.', 'Adam aliniambia kuwa Alice alikuwa na mpenzi mpya wa kiume', 'Radio haikutanga kuhusu ajali hiyo.', 'Adamu ana wasiwasi tutapotea.']\n",
      "['Is that your new friend?', \"Jacob wasn't interested in baseball.\", 'Adam told me that Alice had a new boyfriend.', \"The radio didn't inform about the accident.\", \"Adam is worried we'll get lost.\"]\n",
      "Eng vocab: ['>', '.', ' ', 'D', 'O', 'g', 'l', 'c', ')', '—', 'H', '0', '?', 'E', 'F', '“', 'é', 'Y', '(', '5', 'A', 'S', 'i', '1', '8', 'Q', 'h', 'T', 'Z', 'x', 'n', 'L', 'W', 'U', '°', 'à', 'y', 'a', '’', ':', 'q', 'C', 'o', 'b', 'f', 'J', '4', '&', 'w', 'M', 'N', '-', '\"', '7', '6', 's', 'G', 'd', 'P', '_', 'K', 'k', '3', 'v', 'u', 'j', ',', '”', '9', 'p', 'm', 'V', 'z', 'e', '$', 'I', '2', 't', 'r', 'B', '!', \"'\", ';', 'R', '*', '<']\n",
      "Swa vocab: ['>', '.', ' ', 'D', 'O', 'g', 'l', 'c', ')', '—', 'H', '/', '0', '?', 'E', 'F', 'Y', '(', '5', 'A', 'S', 'i', '1', '8', 'Q', 'h', 'T', 'Z', 'x', 'n', 'L', 'W', 'U', 'y', 'a', ':', 'q', 'C', 'o', 'b', 'f', 'J', '4', '&', 'w', 'M', 'N', '-', '\"', '7', '6', 's', 'G', 'd', 'P', 'K', 'k', '3', 'v', 'u', 'j', ',', '”', '9', 'p', 'm', 'V', 'z', 'e', '$', 'I', '\\u200b', '2', 't', 'r', 'B', '+', '!', \"'\", ';', 'R', '*', '<']\n",
      "Eng vocab_size :83\n",
      "Swa vocab_size :86\n",
      "{'>': 0, '.': 1, ' ': 2, 'D': 3, 'O': 4, 'g': 5, 'l': 6, 'c': 7, ')': 8, '—': 9, 'H': 10, '/': 11, '0': 12, '?': 13, 'E': 14, 'F': 15, 'Y': 16, '(': 17, '5': 18, 'A': 19, 'S': 20, 'i': 21, '1': 22, '8': 23, 'Q': 24, 'h': 25, 'T': 26, 'Z': 27, 'x': 28, 'n': 29, 'L': 30, 'W': 31, 'U': 32, 'y': 33, 'a': 34, ':': 35, 'q': 36, 'C': 37, 'o': 38, 'b': 39, 'f': 40, 'J': 41, '4': 42, '&': 43, 'w': 44, 'M': 45, 'N': 46, '-': 47, '\"': 48, '7': 49, '6': 50, 's': 51, 'G': 52, 'd': 53, 'P': 54, 'K': 55, 'k': 56, '3': 57, 'v': 58, 'u': 59, 'j': 60, ',': 61, '”': 62, '9': 63, 'p': 64, 'm': 65, 'V': 66, 'z': 67, 'e': 68, '$': 69, 'I': 70, '\\u200b': 71, '2': 72, 't': 73, 'r': 74, 'B': 75, '+': 76, '!': 77, \"'\": 78, ';': 79, 'R': 80, '*': 81, '<': 82}\n",
      "{'>': 0, '.': 1, ' ': 2, 'D': 3, 'O': 4, 'g': 5, 'l': 6, 'c': 7, ')': 8, '—': 9, 'H': 10, '0': 11, '?': 12, 'E': 13, 'F': 14, '“': 15, 'é': 16, 'Y': 17, '(': 18, '5': 19, 'A': 20, 'S': 21, 'i': 22, '1': 23, '8': 24, 'Q': 25, 'h': 26, 'T': 27, 'Z': 28, 'x': 29, 'n': 30, 'L': 31, 'W': 32, 'U': 33, '°': 34, 'à': 35, 'y': 36, 'a': 37, '’': 38, ':': 39, 'q': 40, 'C': 41, 'o': 42, 'b': 43, 'f': 44, 'J': 45, '4': 46, '&': 47, 'w': 48, 'M': 49, 'N': 50, '-': 51, '\"': 52, '7': 53, '6': 54, 's': 55, 'G': 56, 'd': 57, 'P': 58, '_': 59, 'K': 60, 'k': 61, '3': 62, 'v': 63, 'u': 64, 'j': 65, ',': 66, '”': 67, '9': 68, 'p': 69, 'm': 70, 'V': 71, 'z': 72, 'e': 73, '$': 74, 'I': 75, '2': 76, 't': 77, 'r': 78, 'B': 79, '!': 80, \"'\": 81, ';': 82, 'R': 83, '*': 84, '<': 85}\n"
     ]
    }
   ],
   "source": [
    "# read in the data from files to lists of strings\n",
    "swa_sentences = []\n",
    "with open(\"./data/translate/gamayun_kit5k.swa\",\"r\") as f:\n",
    "    swa_sentences = f.readlines()\n",
    "eng_sentences = []\n",
    "with open(\"./data/translate/gamayun_kit5k.eng\",\"r\") as f:\n",
    "    eng_sentences = f.readlines()\n",
    "\n",
    "# remove last \\n at the end of every line\n",
    "swa_sentences = [s.rstrip(\"\\n\") for s in swa_sentences]\n",
    "eng_sentences = [s.rstrip(\"\\n\") for s in eng_sentences]\n",
    "\n",
    "print(f\"Size of swahili dataset: {len(swa_sentences)} \")\n",
    "print(f\"Size of english dataset: {len(eng_sentences)} \")\n",
    "print(f\"Max swahili sentence: {max([len(s) for s in swa_sentences])} \")\n",
    "print(f\"Max english sentence: {max([len(s) for s in eng_sentences])} \")\n",
    "\n",
    "print(swa_sentences[:5])\n",
    "print(eng_sentences[:5])\n",
    "\n",
    "START_TOKEN = '>'\n",
    "PADDING_TOKEN = '*'\n",
    "END_TOKEN = '<'\n",
    "\n",
    "# prep swa vocab\n",
    "swa_vocab = list(set(''.join(swa_sentences)))\n",
    "swa_vocab.insert(0,START_TOKEN)\n",
    "swa_vocab.append(PADDING_TOKEN)\n",
    "swa_vocab.append(END_TOKEN)\n",
    "\n",
    "# prep eng vocab\n",
    "eng_vocab = list(set(''.join(eng_sentences)))\n",
    "eng_vocab.insert(0,START_TOKEN)\n",
    "eng_vocab.append(PADDING_TOKEN)\n",
    "eng_vocab.append(END_TOKEN)\n",
    "\n",
    "print(f\"Eng vocab: {eng_vocab}\")\n",
    "print(f\"Swa vocab: {swa_vocab}\")\n",
    "\n",
    "swa_vocab_size = len(swa_vocab)\n",
    "eng_vocab_size = len(eng_vocab)\n",
    "\n",
    "\n",
    "print(f\"Eng vocab_size :{len(swa_vocab)}\")\n",
    "print(f\"Swa vocab_size :{len(eng_vocab)}\")\n",
    "\n",
    "swa_token_to_index = {t:i for i,t in enumerate(swa_vocab)}\n",
    "print(swa_token_to_index)\n",
    "swa_index_to_token = {i:t for i,t in enumerate(swa_vocab)}\n",
    "# print(swa_index_to_token)\n",
    "eng_token_to_index = {t:i for i,t in enumerate(eng_vocab)}\n",
    "print(eng_token_to_index)\n",
    "eng_index_to_token = {i:t for i,t in enumerate(eng_vocab)}\n",
    "# print(eng_index_to_token)\n",
    "\n",
    "# tokenize\n",
    "swahili_sentences_tokenized = [[swa_token_to_index[t] for t in s] for s in swa_sentences]\n",
    "english_sentences_tokenized = [[eng_token_to_index[t] for t in s] for s in eng_sentences]\n",
    "\n",
    "# train/test split\n",
    "swahili_sentences_tokenized_train = swahili_sentences_tokenized[:4500]\n",
    "swahili_sentences_tokenized_test = swahili_sentences_tokenized[4500:]\n",
    "english_sentences_tokenized_train = english_sentences_tokenized[:4500]\n",
    "english_sentences_tokenized_test = english_sentences_tokenized[4500:]"
   ]
  },
  {
   "cell_type": "code",
   "execution_count": 3,
   "metadata": {},
   "outputs": [],
   "source": [
    "NEG_INFTY = -1e9\n",
    "\n",
    "class TranslationDataset(Dataset):\n",
    "\n",
    "    def __init__(self, swahili_sentences, english_sentences, transforms=None, eng_max_sequence_length=250, swa_max_sequence_length=250):\n",
    "        print(swa_max_sequence_length,eng_max_sequence_length)\n",
    "        self.english_sentences = english_sentences\n",
    "        self.swahili_sentences = swahili_sentences\n",
    "        self.transforms = transforms\n",
    "        self.eng_max_sequence_length = eng_max_sequence_length\n",
    "        self.swa_max_sequence_length = swa_max_sequence_length\n",
    "        self.encoder_padding_mask = torch.full([self.eng_max_sequence_length, self.eng_max_sequence_length] , False) # each sentence gets a mask\n",
    "        self.look_ahead_mask = torch.triu(torch.full([self.swa_max_sequence_length, self.swa_max_sequence_length] , True), diagonal=1)\n",
    "        self.decoder_padding_mask_self_attention = torch.full([self.swa_max_sequence_length, self.swa_max_sequence_length] , False) # each sentence gets a mask\n",
    "        self.decoder_padding_mask_cross_attention = torch.full([self.swa_max_sequence_length, self.eng_max_sequence_length] , False) # each sentence gets a mask\n",
    "\n",
    "    def __len__(self):\n",
    "        return len(self.english_sentences)\n",
    "\n",
    "    def __getitem__(self, idx):\n",
    "        eng_sentence = self.english_sentences[idx]\n",
    "        swa_sentence = self.swahili_sentences[idx]\n",
    "        eng_sentence_length = len(eng_sentence)\n",
    "        swa_sentence_length = len(swa_sentence)\n",
    "        eng_chars_to_padding_mask = np.arange(eng_sentence_length, self.eng_max_sequence_length) # fillers\n",
    "        swa_chars_to_padding_mask = np.arange(swa_sentence_length, self.swa_max_sequence_length) # fillers\n",
    "\n",
    "        for _ in range(len(eng_sentence), self.eng_max_sequence_length):\n",
    "            eng_sentence.append(eng_token_to_index[PADDING_TOKEN])\n",
    "        for _ in range(len(swa_sentence), self.swa_max_sequence_length):\n",
    "            swa_sentence.append(swa_token_to_index[PADDING_TOKEN])\n",
    "\n",
    "        self.encoder_padding_mask[:, eng_chars_to_padding_mask] = True\n",
    "        self.encoder_padding_mask[eng_chars_to_padding_mask, :] = True\n",
    "        encoder_padding_mask = torch.where(self.encoder_padding_mask, NEG_INFTY, 0) # encoder mask\n",
    "\n",
    "        self.decoder_padding_mask_self_attention[:, swa_chars_to_padding_mask] = True\n",
    "        self.decoder_padding_mask_self_attention[swa_chars_to_padding_mask, :] = True\n",
    "        decoder_self_attention_mask = torch.where(self.decoder_padding_mask_self_attention+self.look_ahead_mask, NEG_INFTY, 0) # decoder self-attention mask\n",
    "\n",
    "        self.decoder_padding_mask_cross_attention[:, eng_chars_to_padding_mask] = True\n",
    "        self.decoder_padding_mask_cross_attention[swa_chars_to_padding_mask, :] = True\n",
    "        decoder_cross_attention_mask = torch.where(self.decoder_padding_mask_cross_attention, NEG_INFTY, 0) # decoder cross-attention mask\n",
    "\n",
    "        if self.transforms:\n",
    "            swa_sentence = self.transforms(swa_sentence)\n",
    "            eng_sentence = self.transforms(eng_sentence)\n",
    "\n",
    "        return eng_sentence,encoder_padding_mask, swa_sentence, decoder_self_attention_mask, decoder_cross_attention_mask"
   ]
  },
  {
   "attachments": {},
   "cell_type": "markdown",
   "metadata": {},
   "source": [
    "# Input"
   ]
  },
  {
   "attachments": {},
   "cell_type": "markdown",
   "metadata": {},
   "source": [
    "Token Embeddings & Positional Encodings"
   ]
  },
  {
   "cell_type": "code",
   "execution_count": 4,
   "metadata": {},
   "outputs": [
    {
     "name": "stdout",
     "output_type": "stream",
     "text": [
      "torch.Size([64, 1024])\n",
      "torch.Size([64, 1024, 512]) tensor([-25.7044,  -8.7932,  58.8619,  48.2357, -36.0688,  -3.0579, -11.2855,\n",
      "         -8.4295, -44.5982, -29.2443], grad_fn=<SliceBackward0>)\n",
      "torch.Size([1, 1024, 512]) tensor([0., 1., 0., 1., 0., 1., 0., 1., 0., 1.])\n",
      "torch.Size([64, 1024, 512]) tensor([-25.7044,  -7.7932,  58.8619,  49.2357, -36.0688,  -2.0579, -11.2855,\n",
      "         -7.4295, -44.5982, -28.2443], grad_fn=<SliceBackward0>)\n"
     ]
    }
   ],
   "source": [
    "class EmeddingsLayer(nn.Module):\n",
    "    def __init__(self, d_model:int, vocab_size: int):\n",
    "        super().__init__()\n",
    "        self.vocab_size = vocab_size\n",
    "        self.d_model = d_model\n",
    "        self.embedding = nn.Embedding(num_embeddings=self.vocab_size, embedding_dim=self.d_model)\n",
    "\n",
    "    def forward(self, X):\n",
    "        return self.embedding(X) * math.sqrt(self.d_model) # \"In the embedding layers, we multiply those weights by sqrt(d_model)\"\n",
    "\n",
    "\n",
    "class PositionalEncoding(nn.Module):\n",
    "    def __init__(self, d_model:int, context_size:int):\n",
    "        super().__init__()\n",
    "        self.d_model = d_model\n",
    "        self.context_size = context_size\n",
    "        # print(self.context_size)\n",
    "\n",
    "        self.pe = torch.zeros(self.context_size, self.d_model,requires_grad=False)\n",
    "        for pos in range(self.context_size):\n",
    "            for i in range(0, self.d_model, 2):\n",
    "                self.pe[pos, i] = math.sin(pos / (10000 ** ((2 * i)/self.d_model)))\n",
    "                self.pe[pos, i + 1] = math.cos(pos / (10000 ** ((2 * (i + 1))/self.d_model)))\n",
    "    \n",
    "    def forward(self):\n",
    "        return self.pe.unsqueeze(0)\n",
    "\n",
    "\n",
    "embed_test = EmeddingsLayer(d_model=512,vocab_size=50000)\n",
    "pencoding = PositionalEncoding(d_model=512,context_size=1024)\n",
    "example_data = torch.randint(1,50000,(64,1024))\n",
    "print(example_data.shape)\n",
    "embed_output = embed_test(example_data)\n",
    "print(embed_output.shape,embed_output[0][0][:10])\n",
    "pe_output = pencoding()\n",
    "print(pe_output.shape,pe_output[0][0][:10])\n",
    "embed_pos_output = embed_output + pe_output\n",
    "print(embed_pos_output.shape,embed_pos_output[0][0][:10])\n"
   ]
  },
  {
   "attachments": {},
   "cell_type": "markdown",
   "metadata": {},
   "source": [
    "# Attention"
   ]
  },
  {
   "cell_type": "code",
   "execution_count": 5,
   "metadata": {},
   "outputs": [
    {
     "data": {
      "text/plain": [
       "torch.Size([10, 250, 512])"
      ]
     },
     "execution_count": 5,
     "metadata": {},
     "output_type": "execute_result"
    }
   ],
   "source": [
    "class AttentionHead(nn.Module):\n",
    "    \n",
    "    def __init__(self, head_dim:int,p_drop:float) -> None:\n",
    "        super().__init__()\n",
    "        self.queries= nn.Linear(in_features=head_dim,out_features=head_dim) # kaparthy set bias=False why?\n",
    "        self.keys = nn.Linear(in_features=head_dim,out_features=head_dim) # kaparthy set bias=False why?\n",
    "        self.values = nn.Linear(in_features=head_dim,out_features=head_dim) # kaparthy set bias=False why?\n",
    "        self.dropout = nn.Dropout(p=p_drop)\n",
    "\n",
    "    def forward(self,Q:torch.Tensor,K:torch.Tensor,V:torch.Tensor,mask:torch.Tensor = None) -> torch.Tensor:\n",
    "        B,T,C = K.shape\n",
    "        Q = self.dropout(self.queries(Q))\n",
    "        K = self.dropout(self.keys(K))\n",
    "        V = self.dropout(self.values(V))\n",
    "        scaled_dot_product_attention = (Q @ K.transpose(2,1))/torch.sqrt(torch.tensor(C))\n",
    "        if mask is not None:\n",
    "            scaled_dot_product_attention = scaled_dot_product_attention + mask\n",
    "        dot_product_softened = torch.softmax(scaled_dot_product_attention,dim=-1)\n",
    "        return dot_product_softened @ V\n",
    "\n",
    "\n",
    "class MultiHeadSelfAttention(nn.Module):\n",
    "    def __init__(self,d_model:int, p_drop:float, num_heads:int = 8) -> None:\n",
    "        super().__init__()\n",
    "        self.head_dim = math.floor(d_model/num_heads)\n",
    "        self.layer_norm = nn.LayerNorm(d_model)\n",
    "        self.heads = [AttentionHead(head_dim=self.head_dim,p_drop=p_drop) for h in range(num_heads)]\n",
    "        self.linear = nn.Linear(d_model,d_model)\n",
    "        self.dropout = nn.Dropout(p=p_drop)\n",
    "    \n",
    "    def forward(self,X:torch.Tensor,Q:tuple,K:tuple,V:tuple, mask:torch.Tensor = None) ->torch.Tensor:\n",
    "        heads_output = []\n",
    "        for head_index,head in enumerate(self.heads):\n",
    "            queries = Q[head_index]\n",
    "            keys = K[head_index]\n",
    "            values = V[head_index]\n",
    "            v = head(queries,keys,values,mask) # this could be distributed to multiple devices for // processing\n",
    "            heads_output.append(v) # accumulate result\n",
    "         \n",
    "        o = torch.cat(heads_output,dim=-1) #concat\n",
    "        linear_output = self.linear(o) #linear\n",
    "        dropped_output = self.dropout(linear_output) #dropout\n",
    "        mhsa_output = self.layer_norm(X+dropped_output)\n",
    "        return mhsa_output\n",
    "\n",
    "mhsa = MultiHeadSelfAttention(d_model=512,p_drop=0.1,num_heads=8)\n",
    "sample_data = torch.randn((10,250,512))\n",
    "splits = torch.split(sample_data,64,dim=2)\n",
    "mhsa(sample_data,splits,splits,splits,mask=None).shape"
   ]
  },
  {
   "attachments": {},
   "cell_type": "markdown",
   "metadata": {},
   "source": [
    "# Position-wise Feedforward Network"
   ]
  },
  {
   "cell_type": "code",
   "execution_count": 6,
   "metadata": {},
   "outputs": [],
   "source": [
    "class FeedForward(nn.Module):\n",
    "    def __init__(self,d_model:int,p_drop:float,d_ff:int) -> None:\n",
    "        super().__init__()\n",
    "        self.ffn = nn.Sequential(\n",
    "            nn.Linear(in_features=d_model,out_features=d_ff),\n",
    "            nn.ReLU(),\n",
    "            nn.Dropout(p=p_drop),\n",
    "            nn.Linear(in_features=d_ff,out_features=d_model)\n",
    "        )\n",
    "        self.layer_norm = nn.LayerNorm(d_model)\n",
    "\n",
    "    def forward(self,X:torch.Tensor) -> torch.Tensor:\n",
    "        return self.layer_norm(X+self.ffn(X))"
   ]
  },
  {
   "attachments": {},
   "cell_type": "markdown",
   "metadata": {},
   "source": [
    "# Encorder"
   ]
  },
  {
   "cell_type": "code",
   "execution_count": 7,
   "metadata": {},
   "outputs": [],
   "source": [
    "class EncoderLayer(nn.Module):\n",
    "    def __init__(self, d_model:int, p_drop:float, d_ff:int, num_heads:int, **kwargs) -> None:\n",
    "        super().__init__()\n",
    "        self.head_dim = d_model // num_heads\n",
    "        self.multihead_self_attention = MultiHeadSelfAttention(d_model=d_model,p_drop=p_drop,num_heads=num_heads)\n",
    "        self.feedforward = FeedForward(d_model=d_model,p_drop=p_drop,d_ff=d_ff)\n",
    "\n",
    "    def forward(self,X:torch.Tensor,mask:torch.Tensor=None) -> torch.Tensor:\n",
    "        splits = torch.split(X,self.head_dim,dim=2)\n",
    "        return self.feedforward(self.multihead_self_attention(X,splits,splits,splits,mask))\n",
    "    \n",
    "class Encoder(nn.Module):\n",
    "    def __init__(self, number_of_encoder_blocks:int=6,**kwargs) -> None:\n",
    "        super().__init__()\n",
    "        self.encoders = nn.ModuleList([EncoderLayer(**kwargs) for n in range(number_of_encoder_blocks)])\n",
    "\n",
    "    def forward(self,X:torch.Tensor,mask:torch.Tensor=None) -> torch.Tensor:\n",
    "        outputs = X\n",
    "        for encoder_layer in self.encoders:\n",
    "            outputs = encoder_layer(outputs,mask)\n",
    "        return outputs"
   ]
  },
  {
   "attachments": {},
   "cell_type": "markdown",
   "metadata": {},
   "source": [
    "# Decoder"
   ]
  },
  {
   "cell_type": "code",
   "execution_count": 8,
   "metadata": {},
   "outputs": [],
   "source": [
    "class DecoderLayer(nn.Module):\n",
    "    def __init__(self,d_model:int,p_drop:float,d_ff:int,num_heads:int,**kwargs) -> None:\n",
    "        super().__init__()\n",
    "        self.head_dim = d_model // num_heads\n",
    "        self.masked_multi_head_self_attention = MultiHeadSelfAttention(d_model=d_model,p_drop=p_drop,num_heads=num_heads)\n",
    "        self.masked_multi_head_cross_attention = MultiHeadSelfAttention(d_model=d_model,p_drop=p_drop,num_heads=num_heads)\n",
    "        self.feedforward = FeedForward(d_model=d_model,p_drop=p_drop,d_ff=d_ff)\n",
    "\n",
    "    def forward(self,outputs:torch.Tensor,encoded_sequence:torch.Tensor,self_attention_mask:torch.Tensor=None,cross_attention_mask:torch.Tensor=None) -> torch.Tensor:\n",
    "        output_splits = torch.split(outputs,self.head_dim,dim=2)\n",
    "        masked_output = self.masked_multi_head_self_attention(outputs,Q=output_splits,K=output_splits,V=output_splits,mask=self_attention_mask)\n",
    "        \n",
    "        masked_output_splits = torch.split(masked_output,self.head_dim,dim=2)\n",
    "        encoded_sequence_splits = torch.split(encoded_sequence,self.head_dim,dim=2)\n",
    "        mhsa_output = self.masked_multi_head_cross_attention(masked_output,Q=masked_output_splits,K=encoded_sequence_splits,V=encoded_sequence_splits,mask=cross_attention_mask)\n",
    "        return self.feedforward(mhsa_output)\n",
    "\n",
    "\n",
    "class Decoder(nn.Module):\n",
    "    def __init__(self, number_of_decoder_blocks:int, **kwargs) -> None:\n",
    "        super().__init__()\n",
    "        self.decoder_layers = nn.ModuleList([DecoderLayer(**kwargs) for n in range(number_of_decoder_blocks)])\n",
    "        \n",
    "    def forward(self,outputs:torch.Tensor,encoded_sequence:torch.Tensor,self_attention_mask:torch.Tensor=None,cross_attention_mask:torch.Tensor=None) -> torch.Tensor:\n",
    "        for decoder_layer in self.decoder_layers:\n",
    "            outputs = decoder_layer(outputs,encoded_sequence,self_attention_mask,cross_attention_mask)\n",
    "        return outputs\n",
    "\n"
   ]
  },
  {
   "attachments": {},
   "cell_type": "markdown",
   "metadata": {},
   "source": [
    "# Transformer"
   ]
  },
  {
   "cell_type": "code",
   "execution_count": 9,
   "metadata": {},
   "outputs": [],
   "source": [
    "class Transformer(nn.Module):\n",
    "    def __init__(self,\n",
    "                 eng_vocab_size:int,\n",
    "                 swa_vocab_size:int,\n",
    "                 batch_size:int,\n",
    "                 context_size:int,\n",
    "                 d_model:int,\n",
    "                 d_ff:int,\n",
    "                 num_heads:int,\n",
    "                 number_of_encoder_blocks:int,\n",
    "                 number_of_decoder_blocks:int,\n",
    "                 p_drop:float):\n",
    "        \n",
    "        super().__init__()\n",
    "        self.context_size = context_size\n",
    "\n",
    "        self.encoder_embedding = EmeddingsLayer(d_model=d_model,vocab_size=eng_vocab_size)\n",
    "        self.decoder_embedding = EmeddingsLayer(d_model=d_model,vocab_size=swa_vocab_size)\n",
    "        self.positional_encoding = PositionalEncoding(d_model=d_model,context_size=context_size)\n",
    "        self.dropout = nn.Dropout(p=p_drop)\n",
    "        self.encoder = Encoder(\n",
    "                            batch_size=batch_size,\n",
    "                            context_size=context_size,\n",
    "                            d_model=d_model,\n",
    "                            d_ff=d_ff,\n",
    "                            num_heads=num_heads,\n",
    "                            number_of_encoder_blocks=number_of_encoder_blocks,\n",
    "                            p_drop=p_drop)\n",
    "        \n",
    "        self.decoder = Decoder(\n",
    "                            batch_size=batch_size,\n",
    "                            context_size=context_size,\n",
    "                            d_model=d_model,\n",
    "                            p_drop=p_drop,\n",
    "                            d_ff=d_ff,\n",
    "                            num_heads=num_heads,\n",
    "                            number_of_decoder_blocks=number_of_decoder_blocks)\n",
    "        \n",
    "        self.linear = nn.Linear(in_features=d_model,out_features=swa_vocab_size)\n",
    "\n",
    "\n",
    "    def forward(self,X:torch.Tensor,y:torch.Tensor,encoder_mask:torch.Tensor,decoder_self_attention_mask:torch.Tensor,decoder_cross_attention_mask:torch.Tensor) -> torch.Tensor:\n",
    "        pos_encoding = self.positional_encoding() #\n",
    "        # print(pos_encoding[:5])\n",
    "\n",
    "        # encode\n",
    "        input_embeddings = self.encoder_embedding(X) \n",
    "        # print(input_embeddings[:5])\n",
    "\n",
    "        inputs = self.dropout(input_embeddings+pos_encoding) # B*T*C\n",
    "        # print(inputs[:5])\n",
    "        # print(encoder_mask[:5])\n",
    "\n",
    "        encoded_sequence = self.encoder(inputs,encoder_mask)\n",
    "        # print(encoded_sequence[:5])\n",
    "        # decode\n",
    "        output_embedding = self.decoder_embedding(y)\n",
    "        outputs = self.dropout(output_embedding+pos_encoding) # B*T*C\n",
    "        decoder_output = self.decoder(outputs,encoded_sequence,self_attention_mask=decoder_self_attention_mask,cross_attention_mask=decoder_cross_attention_mask)\n",
    "        # linear\n",
    "        output_logits = self.linear(decoder_output)\n",
    "        # output_probs = torch.softmax(output_logits,dim=-1)\n",
    "\n",
    "        return output_logits"
   ]
  },
  {
   "cell_type": "code",
   "execution_count": 10,
   "metadata": {},
   "outputs": [
    {
     "name": "stdout",
     "output_type": "stream",
     "text": [
      "250 250\n",
      "250 250\n",
      "torch.Size([10, 250]) torch.Size([10, 250])\n",
      "tensor([49, 64, 26, 37, 70, 70, 37, 57,  2, 55, 48, 22, 77,  7, 26, 73, 57,  2,\n",
      "        42, 44, 44,  2, 37,  6,  6,  2, 77, 26, 73,  2,  6, 22,  5, 26, 77, 55,\n",
      "         2, 37, 30, 57,  2,  6, 22, 77,  2, 77, 26, 73,  2,  7, 37, 30, 57,  6,\n",
      "        73, 55,  1, 84, 84, 84, 84, 84, 84, 84, 84, 84, 84, 84, 84, 84, 84, 84,\n",
      "        84, 84, 84, 84, 84, 84, 84, 84, 84, 84, 84, 84, 84, 84, 84, 84, 84, 84,\n",
      "        84, 84, 84, 84, 84, 84, 84, 84, 84, 84, 84, 84, 84, 84, 84, 84, 84, 84,\n",
      "        84, 84, 84, 84, 84, 84, 84, 84, 84, 84, 84, 84, 84, 84, 84, 84, 84, 84,\n",
      "        84, 84, 84, 84, 84, 84, 84, 84, 84, 84, 84, 84, 84, 84, 84, 84, 84, 84,\n",
      "        84, 84, 84, 84, 84, 84, 84, 84, 84, 84, 84, 84, 84, 84, 84, 84, 84, 84,\n",
      "        84, 84, 84, 84, 84, 84, 84, 84, 84, 84, 84, 84, 84, 84, 84, 84, 84, 84,\n",
      "        84, 84, 84, 84, 84, 84, 84, 84, 84, 84, 84, 84, 84, 84, 84, 84, 84, 84,\n",
      "        84, 84, 84, 84, 84, 84, 84, 84, 84, 84, 84, 84, 84, 84, 84, 84, 84, 84,\n",
      "        84, 84, 84, 84, 84, 84, 84, 84, 84, 84, 84, 84, 84, 84, 84, 84, 84, 84,\n",
      "        84, 84, 84, 84, 84, 84, 84, 84, 84, 84, 84, 84, 84, 84, 84, 84])\n"
     ]
    }
   ],
   "source": [
    "training_dataset = TranslationDataset(swahili_sentences=swahili_sentences_tokenized_train,english_sentences=english_sentences_tokenized_train,transforms=transforms.ToTensor())\n",
    "testing_dataset = TranslationDataset(swahili_sentences=swahili_sentences_tokenized_test,english_sentences=english_sentences_tokenized_test,transforms=transforms.ToTensor())\n",
    "training_dataloader = DataLoader(training_dataset,batch_size=10,shuffle=True)\n",
    "testing_dataloader = DataLoader(testing_dataset,batch_size=10,shuffle=False)\n",
    "\n",
    "eng_sentence,encoder_mask,swa_sentence,decoder_self_attention_mask,decoder_cross_attention_mask = next(iter(training_dataloader))\n",
    "print(eng_sentence.shape,swa_sentence.shape)\n",
    "print(eng_sentence[0])"
   ]
  },
  {
   "attachments": {},
   "cell_type": "markdown",
   "metadata": {},
   "source": [
    "# Train Transformer\n"
   ]
  },
  {
   "cell_type": "code",
   "execution_count": 13,
   "metadata": {},
   "outputs": [],
   "source": [
    "config = {\n",
    "    \"eng_vocab_size\":eng_vocab_size,\n",
    "    \"swa_vocab_size\":swa_vocab_size,\n",
    "    \"batch_size\":100,\n",
    "    \"context_size\":250,\n",
    "    \"d_model\":512,\n",
    "    \"num_heads\":8,\n",
    "    \"d_ff\":2048,\n",
    "    \"number_of_encoder_blocks\": 2,\n",
    "    \"number_of_decoder_blocks\": 2,\n",
    "    \"p_drop\":0.1\n",
    "}\n",
    "device = \"cuda\" if torch.cuda.is_available() else \"cpu\"\n",
    "\n",
    "model = Transformer(**config)\n",
    "# model"
   ]
  },
  {
   "cell_type": "code",
   "execution_count": 15,
   "metadata": {},
   "outputs": [
    {
     "name": "stderr",
     "output_type": "stream",
     "text": [
      "  0%|          | 0/10 [00:00<?, ?it/s]"
     ]
    },
    {
     "name": "stdout",
     "output_type": "stream",
     "text": [
      "Epoch 0\n",
      "Iteration: 0 Loss: 0.008157229982316494\n",
      "English: Science has discovered that there are five types of human beings.*****************************************************************************************************************************************************************************************\n",
      "Swahili Translation: Sayansi imegundua kuwa kuna aina tano za wanadamu.********************************************************************************************************************************************************************************************************\n",
      "Swahili Prediction: ”Y)+(Ed)RL+hH(l​;&7P;;\"fk;L5d(?;1;(1)”;)Vm(;1​L1O((((((4(4(4(4444:(:((444444V)4((:4(((((((((:(4:44((((((((444:4(((4(4(((((:((((((4(V4(4(4((4(4(44(:((V(((444(444(((((V((4(44((4((4((44((V((((((((s(((444V(4(44(44::4V(:s4(((((:(44(44V((((:((((4((4(444(4\n"
     ]
    }
   ],
   "source": [
    "EPOCHS = 10\n",
    "loss_fn = nn.CrossEntropyLoss()\n",
    "optimizer = optim.Adam(model.parameters(),lr=1e-4)\n",
    "\n",
    "for epoch in tqdm.tqdm(range(EPOCHS)):\n",
    "    print(f\"Epoch {epoch}\")\n",
    "    # train\n",
    "    model.train()\n",
    "    for batch,(eng_batch,encoder_mask,swa_batch,decoder_self_attention_mask,decoder_cross_attention_mask) in enumerate(training_dataloader):\n",
    "        train_logits = model(eng_batch,swa_batch,encoder_mask,decoder_self_attention_mask,decoder_cross_attention_mask)\n",
    "        loss = loss_fn(train_logits.view(-1,swa_vocab_size),swa_batch.view(-1))\n",
    "        valid_indicies = torch.where(swa_batch.view(-1) == swa_token_to_index[PADDING_TOKEN], 0, 1)\n",
    "        loss = loss.sum() / valid_indicies.sum()\n",
    "        loss.backward()\n",
    "        optimizer.step()\n",
    "        if batch % 100 == 0:\n",
    "            print(f\"Iteration: {batch} Loss: {loss.item()}\")\n",
    "            print(f\"English: {''.join([eng_index_to_token[t.item()] for t in eng_batch[0]])}\")\n",
    "            print(f\"Swahili Translation: {''.join([swa_index_to_token[t.item()] for t in swa_batch[0]])}\")\n",
    "            swa_sentence_predicted = torch.argmax(train_logits[0], axis=1)\n",
    "            predicted_sentence = ''\n",
    "            for idx in swa_sentence_predicted:\n",
    "              if idx.item() == swa_token_to_index[END_TOKEN]:\n",
    "                break\n",
    "              elif idx.item() == swa_token_to_index[PADDING_TOKEN]:\n",
    "                predicted_sentence += ''\n",
    "              else:\n",
    "                predicted_sentence += swa_index_to_token[idx.item()]\n",
    "            print(f\"Swahili Prediction: {predicted_sentence}\")\n",
    "\n",
    "    # test\n",
    "    model.eval()\n",
    "    for test_batch,(test_eng_batch,test_encoder_mask,test_swa_batch,test_decoder_self_attention_mask,test_decoder_cross_attention_mask) in enumerate(testing_dataloader):\n",
    "        print(f\"Test English: {''.join([eng_index_to_token[t.item()] for t in test_eng_batch[0]])}\")\n",
    "        test_logits = model(test_eng_batch,test_swa_batch,test_encoder_mask,test_decoder_self_attention_mask,test_decoder_cross_attention_mask)\n",
    "        swa_sentence_predicted = torch.argmax(test_logits[0], axis=1)\n",
    "        predicted_sentence = ''\n",
    "        for idx in swa_sentence_predicted:\n",
    "          if idx == swa_token_to_index[END_TOKEN]:\n",
    "            break\n",
    "          elif idx == swa_token_to_index[PADDING_TOKEN]:\n",
    "            predicted_sentence += ''\n",
    "          else:\n",
    "            predicted_sentence += swa_index_to_token[idx.item()]\n",
    "        print(f\"Test Swahili Prediction: {predicted_sentence}\")\n",
    "        loss = loss_fn(test_logits.view(-1,swa_vocab_size),test_swa_batch.view(-1))\n",
    "        valid_indicies = torch.where(test_swa_batch.view(-1) == swa_token_to_index[PADDING_TOKEN], False, True)\n",
    "        loss = loss.sum() / valid_indicies.sum()\n",
    "        print(f\"Testing Loss: {loss.item()}\")\n",
    "        print()\n",
    "    print(\"------------------------------------------------------------------------\")\n"
   ]
  },
  {
   "cell_type": "code",
   "execution_count": 14,
   "metadata": {},
   "outputs": [
    {
     "name": "stdout",
     "output_type": "stream",
     "text": [
      "40456524\n",
      "model size: 38.582MB\n",
      "mkdir: cannot create directory ‘models’: File exists\n"
     ]
    }
   ],
   "source": [
    "param_size = 0\n",
    "for param in model.parameters():\n",
    "    param_size += param.nelement() * param.element_size()\n",
    "buffer_size = 0\n",
    "for buffer in model.buffers():\n",
    "    buffer_size += buffer.nelement() * buffer.element_size()\n",
    "print((param_size + buffer_size))\n",
    "size_all_mb = (param_size + buffer_size) / 1024**2\n",
    "print('model size: {:.3f}MB'.format(size_all_mb))\n",
    "!mkdir models\n",
    "MODEL_PATH = pathlib.Path(\"models/translator.pt\")\n",
    "\n",
    "torch.save(model.state_dict(),MODEL_PATH)"
   ]
  },
  {
   "cell_type": "code",
   "execution_count": null,
   "metadata": {},
   "outputs": [],
   "source": []
  },
  {
   "cell_type": "code",
   "execution_count": null,
   "metadata": {},
   "outputs": [],
   "source": []
  },
  {
   "cell_type": "code",
   "execution_count": null,
   "metadata": {},
   "outputs": [],
   "source": []
  },
  {
   "cell_type": "code",
   "execution_count": null,
   "metadata": {},
   "outputs": [],
   "source": []
  }
 ],
 "metadata": {
  "kernelspec": {
   "display_name": "env",
   "language": "python",
   "name": "python3"
  },
  "language_info": {
   "codemirror_mode": {
    "name": "ipython",
    "version": 3
   },
   "file_extension": ".py",
   "mimetype": "text/x-python",
   "name": "python",
   "nbconvert_exporter": "python",
   "pygments_lexer": "ipython3",
   "version": "3.11.2"
  },
  "orig_nbformat": 4
 },
 "nbformat": 4,
 "nbformat_minor": 2
}
