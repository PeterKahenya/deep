{
 "cells": [
  {
   "attachments": {},
   "cell_type": "markdown",
   "metadata": {},
   "source": [
    "# Transformer Architecture\n",
    "Follows the \"Attention is all you need\" paper architecture"
   ]
  },
  {
   "cell_type": "code",
   "execution_count": 1,
   "metadata": {},
   "outputs": [],
   "source": [
    "import torch\n",
    "from torch import nn\n",
    "import math"
   ]
  },
  {
   "cell_type": "code",
   "execution_count": 2,
   "metadata": {},
   "outputs": [],
   "source": [
    "d_model = 512\n",
    "d_ff = 2048\n",
    "h = 8\n",
    "head_dim = d_model/h\n",
    "N = 6\n",
    "device = \"cuda\" if torch.cuda.is_available() else \"cpu\""
   ]
  },
  {
   "cell_type": "code",
   "execution_count": 3,
   "metadata": {},
   "outputs": [],
   "source": [
    "class AttentionHead(nn.Module):\n",
    "    def __init__(self,head_dim:int = 64, masked:bool = False) -> None:\n",
    "        super().__init__()\n",
    "        self.masked = masked\n",
    "        self.queries= nn.Linear(in_features=head_dim,out_features=head_dim) # kaparthy set bias=False why?\n",
    "        self.keys = nn.Linear(in_features=head_dim,out_features=head_dim) # kaparthy set bias=False why?\n",
    "        self.values = nn.Linear(in_features=head_dim,out_features=head_dim) # kaparthy set bias=False why?\n",
    "\n",
    "    def forward(self,X:torch.Tensor) -> torch.Tensor:\n",
    "        B,T,C = X.shape\n",
    "\n",
    "        K = self.keys(X)\n",
    "        Q = self.queries(X)\n",
    "        V = self.values(X)\n",
    "\n",
    "        scaled_dot_product_attention = (Q @ K.transpose(2,1))/torch.sqrt(torch.tensor(head_dim))\n",
    "        if self.masked:\n",
    "            mask = torch.tril(torch.ones(T,T)) == 0\n",
    "            scaled_dot_product_attention = scaled_dot_product_attention.masked_fill(mask,-float(\"inf\"))\n",
    "\n",
    "        dot_product_softened = torch.softmax(scaled_dot_product_attention,dim=-1)\n",
    "        return dot_product_softened @ V\n",
    "\n",
    "# attn = AttentionHead(masked=True)\n",
    "# v = attn(torch.rand((10,3,64)))\n",
    "# v.shape"
   ]
  },
  {
   "cell_type": "code",
   "execution_count": 4,
   "metadata": {},
   "outputs": [],
   "source": [
    "class MultiHeadSelfAttention(nn.Module):\n",
    "    def __init__(self,d_model:int = 512, number_of_heads:int = 8, masked = False) -> None:\n",
    "        super().__init__()\n",
    "        self.head_dim = math.floor(d_model/number_of_heads)\n",
    "        self.layer_norm = nn.LayerNorm(d_model)\n",
    "        self.heads = [AttentionHead(head_dim=self.head_dim,masked=masked) for h in range(number_of_heads)]\n",
    "        self.linear = nn.Linear(d_model,d_model)\n",
    "    \n",
    "    def forward(self,X:torch.Tensor) ->torch.Tensor:\n",
    "\n",
    "        splits = torch.split(X,self.head_dim,dim=2) # paper says 'project'\n",
    "        heads_output = []\n",
    "        for head_index,head in enumerate(self.heads):\n",
    "            x = head(splits[head_index]) # this could be distributed to multiple devices for // processing\n",
    "            heads_output.append(x) # accumulate result\n",
    "        \n",
    "        o = torch.cat(heads_output,dim=-1)\n",
    "\n",
    "        linear_output = self.linear(o)\n",
    "\n",
    "        return self.layer_norm(X+linear_output)\n",
    "\n",
    "\n",
    "# mhsa = MultiHeadSelfAttention(d_model=512,number_of_heads=8,masked=True)\n",
    "# mhsa(torch.randn((10,5,512)))"
   ]
  },
  {
   "cell_type": "code",
   "execution_count": 5,
   "metadata": {},
   "outputs": [],
   "source": [
    "class FeedForward(nn.Module):\n",
    "    def __init__(self) -> None:\n",
    "        super().__init__()\n",
    "        self.ffn = nn.Sequential(\n",
    "            nn.Linear(in_features=d_model,out_features=d_ff),\n",
    "            nn.ReLU(),\n",
    "            nn.Linear(in_features=d_ff,out_features=d_model)\n",
    "        )\n",
    "        self.layer_norm = nn.LayerNorm(d_model)\n",
    "\n",
    "    def forward(self,X:torch.Tensor) -> torch.Tensor:\n",
    "        return self.layer_norm(X+self.ffn(X))\n",
    "\n",
    "\n",
    "# feedforward = FeedForward()\n",
    "# feedforward.state_dict()"
   ]
  },
  {
   "attachments": {},
   "cell_type": "markdown",
   "metadata": {},
   "source": [
    "# Encorder"
   ]
  },
  {
   "cell_type": "code",
   "execution_count": 8,
   "metadata": {},
   "outputs": [
    {
     "data": {
      "text/plain": [
       "torch.Size([10, 5, 512])"
      ]
     },
     "execution_count": 8,
     "metadata": {},
     "output_type": "execute_result"
    }
   ],
   "source": [
    "class EncoderLayer(nn.Module):\n",
    "    def __init__(self) -> None:\n",
    "        super().__init__()\n",
    "        self.multihead_self_attention = MultiHeadSelfAttention()\n",
    "        self.feedforward = FeedForward()\n",
    "\n",
    "    def forward(self,X:torch.Tensor) -> torch.Tensor:\n",
    "        return self.feedforward(self.multihead_self_attention(X))\n",
    "    \n",
    "encoder_layer = EncoderLayer()\n",
    "encoder_layer(torch.randn(10,5,512)).shape"
   ]
  },
  {
   "cell_type": "code",
   "execution_count": 9,
   "metadata": {},
   "outputs": [
    {
     "data": {
      "text/plain": [
       "torch.Size([10, 5, 512])"
      ]
     },
     "execution_count": 9,
     "metadata": {},
     "output_type": "execute_result"
    }
   ],
   "source": [
    "class Encoder(nn.Module):\n",
    "    def __init__(self, N:int=6) -> None:\n",
    "        super().__init__()\n",
    "        self.encode = nn.Sequential(*[EncoderLayer() for n in range(N)])\n",
    "\n",
    "    def forward(self,X:torch.Tensor) -> torch.Tensor:\n",
    "        return self.encode(X)\n",
    "\n",
    "encoder = Encoder(N=6)\n",
    "encoder(torch.randn(10,5,512)).shape"
   ]
  },
  {
   "attachments": {},
   "cell_type": "markdown",
   "metadata": {},
   "source": [
    "# Decoder"
   ]
  },
  {
   "cell_type": "code",
   "execution_count": 7,
   "metadata": {},
   "outputs": [
    {
     "data": {
      "text/plain": [
       "torch.Size([10, 5, 512])"
      ]
     },
     "execution_count": 7,
     "metadata": {},
     "output_type": "execute_result"
    }
   ],
   "source": [
    "class DecoderLayer(nn.Module):\n",
    "    def __init__(self) -> None:\n",
    "        super().__init__()\n",
    "        self.masked_multi_head_self_attention = MultiHeadSelfAttention(d_model=512,number_of_heads=8,masked=True)\n",
    "        self.multi_head_self_attention = MultiHeadSelfAttention(d_model=512,number_of_heads=8,masked=False)\n",
    "        self.feedforward = FeedForward()\n",
    "\n",
    "    def forward(self,X:torch.Tensor) -> torch.Tensor:\n",
    "        return self.feedforward(self.multi_head_self_attention(self.masked_multi_head_self_attention(X)))\n",
    "    \n",
    "decoder_layer = DecoderLayer()\n",
    "decoder_layer(torch.randn(10,5,512)).shape"
   ]
  },
  {
   "cell_type": "code",
   "execution_count": 10,
   "metadata": {},
   "outputs": [
    {
     "data": {
      "text/plain": [
       "Decoder(\n",
       "  (decode): Sequential(\n",
       "    (0): DecoderLayer(\n",
       "      (masked_multi_head_self_attention): MultiHeadSelfAttention(\n",
       "        (layer_norm): LayerNorm((512,), eps=1e-05, elementwise_affine=True)\n",
       "        (linear): Linear(in_features=512, out_features=512, bias=True)\n",
       "      )\n",
       "      (multi_head_self_attention): MultiHeadSelfAttention(\n",
       "        (layer_norm): LayerNorm((512,), eps=1e-05, elementwise_affine=True)\n",
       "        (linear): Linear(in_features=512, out_features=512, bias=True)\n",
       "      )\n",
       "      (feedforward): FeedForward(\n",
       "        (ffn): Sequential(\n",
       "          (0): Linear(in_features=512, out_features=2048, bias=True)\n",
       "          (1): ReLU()\n",
       "          (2): Linear(in_features=2048, out_features=512, bias=True)\n",
       "        )\n",
       "        (layer_norm): LayerNorm((512,), eps=1e-05, elementwise_affine=True)\n",
       "      )\n",
       "    )\n",
       "    (1): DecoderLayer(\n",
       "      (masked_multi_head_self_attention): MultiHeadSelfAttention(\n",
       "        (layer_norm): LayerNorm((512,), eps=1e-05, elementwise_affine=True)\n",
       "        (linear): Linear(in_features=512, out_features=512, bias=True)\n",
       "      )\n",
       "      (multi_head_self_attention): MultiHeadSelfAttention(\n",
       "        (layer_norm): LayerNorm((512,), eps=1e-05, elementwise_affine=True)\n",
       "        (linear): Linear(in_features=512, out_features=512, bias=True)\n",
       "      )\n",
       "      (feedforward): FeedForward(\n",
       "        (ffn): Sequential(\n",
       "          (0): Linear(in_features=512, out_features=2048, bias=True)\n",
       "          (1): ReLU()\n",
       "          (2): Linear(in_features=2048, out_features=512, bias=True)\n",
       "        )\n",
       "        (layer_norm): LayerNorm((512,), eps=1e-05, elementwise_affine=True)\n",
       "      )\n",
       "    )\n",
       "    (2): DecoderLayer(\n",
       "      (masked_multi_head_self_attention): MultiHeadSelfAttention(\n",
       "        (layer_norm): LayerNorm((512,), eps=1e-05, elementwise_affine=True)\n",
       "        (linear): Linear(in_features=512, out_features=512, bias=True)\n",
       "      )\n",
       "      (multi_head_self_attention): MultiHeadSelfAttention(\n",
       "        (layer_norm): LayerNorm((512,), eps=1e-05, elementwise_affine=True)\n",
       "        (linear): Linear(in_features=512, out_features=512, bias=True)\n",
       "      )\n",
       "      (feedforward): FeedForward(\n",
       "        (ffn): Sequential(\n",
       "          (0): Linear(in_features=512, out_features=2048, bias=True)\n",
       "          (1): ReLU()\n",
       "          (2): Linear(in_features=2048, out_features=512, bias=True)\n",
       "        )\n",
       "        (layer_norm): LayerNorm((512,), eps=1e-05, elementwise_affine=True)\n",
       "      )\n",
       "    )\n",
       "    (3): DecoderLayer(\n",
       "      (masked_multi_head_self_attention): MultiHeadSelfAttention(\n",
       "        (layer_norm): LayerNorm((512,), eps=1e-05, elementwise_affine=True)\n",
       "        (linear): Linear(in_features=512, out_features=512, bias=True)\n",
       "      )\n",
       "      (multi_head_self_attention): MultiHeadSelfAttention(\n",
       "        (layer_norm): LayerNorm((512,), eps=1e-05, elementwise_affine=True)\n",
       "        (linear): Linear(in_features=512, out_features=512, bias=True)\n",
       "      )\n",
       "      (feedforward): FeedForward(\n",
       "        (ffn): Sequential(\n",
       "          (0): Linear(in_features=512, out_features=2048, bias=True)\n",
       "          (1): ReLU()\n",
       "          (2): Linear(in_features=2048, out_features=512, bias=True)\n",
       "        )\n",
       "        (layer_norm): LayerNorm((512,), eps=1e-05, elementwise_affine=True)\n",
       "      )\n",
       "    )\n",
       "    (4): DecoderLayer(\n",
       "      (masked_multi_head_self_attention): MultiHeadSelfAttention(\n",
       "        (layer_norm): LayerNorm((512,), eps=1e-05, elementwise_affine=True)\n",
       "        (linear): Linear(in_features=512, out_features=512, bias=True)\n",
       "      )\n",
       "      (multi_head_self_attention): MultiHeadSelfAttention(\n",
       "        (layer_norm): LayerNorm((512,), eps=1e-05, elementwise_affine=True)\n",
       "        (linear): Linear(in_features=512, out_features=512, bias=True)\n",
       "      )\n",
       "      (feedforward): FeedForward(\n",
       "        (ffn): Sequential(\n",
       "          (0): Linear(in_features=512, out_features=2048, bias=True)\n",
       "          (1): ReLU()\n",
       "          (2): Linear(in_features=2048, out_features=512, bias=True)\n",
       "        )\n",
       "        (layer_norm): LayerNorm((512,), eps=1e-05, elementwise_affine=True)\n",
       "      )\n",
       "    )\n",
       "    (5): DecoderLayer(\n",
       "      (masked_multi_head_self_attention): MultiHeadSelfAttention(\n",
       "        (layer_norm): LayerNorm((512,), eps=1e-05, elementwise_affine=True)\n",
       "        (linear): Linear(in_features=512, out_features=512, bias=True)\n",
       "      )\n",
       "      (multi_head_self_attention): MultiHeadSelfAttention(\n",
       "        (layer_norm): LayerNorm((512,), eps=1e-05, elementwise_affine=True)\n",
       "        (linear): Linear(in_features=512, out_features=512, bias=True)\n",
       "      )\n",
       "      (feedforward): FeedForward(\n",
       "        (ffn): Sequential(\n",
       "          (0): Linear(in_features=512, out_features=2048, bias=True)\n",
       "          (1): ReLU()\n",
       "          (2): Linear(in_features=2048, out_features=512, bias=True)\n",
       "        )\n",
       "        (layer_norm): LayerNorm((512,), eps=1e-05, elementwise_affine=True)\n",
       "      )\n",
       "    )\n",
       "  )\n",
       ")"
      ]
     },
     "execution_count": 10,
     "metadata": {},
     "output_type": "execute_result"
    }
   ],
   "source": [
    "class Decoder(nn.Module):\n",
    "    def __init__(self, N:int=6) -> None:\n",
    "        super().__init__()\n",
    "        self.decode = nn.Sequential(*[DecoderLayer() for n in range(N)])\n",
    "        \n",
    "    def forward(self,X:torch.Tensor) -> torch.Tensor:\n",
    "        return self.decode(X)\n",
    "\n",
    "decoder = Decoder()\n",
    "decoder"
   ]
  },
  {
   "attachments": {},
   "cell_type": "markdown",
   "metadata": {},
   "source": [
    "# Transformer Model"
   ]
  },
  {
   "cell_type": "code",
   "execution_count": 13,
   "metadata": {},
   "outputs": [],
   "source": [
    "vocab_size = 1200"
   ]
  },
  {
   "cell_type": "code",
   "execution_count": 17,
   "metadata": {},
   "outputs": [
    {
     "data": {
      "text/plain": [
       "torch.Size([10, 5, 512])"
      ]
     },
     "execution_count": 17,
     "metadata": {},
     "output_type": "execute_result"
    }
   ],
   "source": [
    "class Transformer(nn.Module):\n",
    "    def __init__(self,vocab_size:int,context_size:int,d_model:int,number_of_encoder_blocks:int=6,number_of_decoder_blocks:int=6) -> None:\n",
    "        super().__init__()\n",
    "        self.encoder = Encoder(N=number_of_encoder_blocks)\n",
    "        self.decoder = Decoder(N=number_of_decoder_blocks)\n",
    "        self.linear = nn.Linear(in_features=d_model*context_size,out_features=vocab_size)\n",
    "    def forward(self,X:torch.Tensor) -> torch.Tensor:\n",
    "        return X\n",
    "model = Transformer(vocab_size=vocab_size,context_size=10,d_model=512)\n",
    "model(torch.randn(10,5,512)).shape"
   ]
  },
  {
   "cell_type": "code",
   "execution_count": 18,
   "metadata": {},
   "outputs": [
    {
     "name": "stdout",
     "output_type": "stream",
     "text": [
      "model size: 137.712MB\n"
     ]
    }
   ],
   "source": [
    "param_size = 0\n",
    "for param in model.parameters():\n",
    "    param_size += param.nelement() * param.element_size()\n",
    "buffer_size = 0\n",
    "for buffer in model.buffers():\n",
    "    buffer_size += buffer.nelement() * buffer.element_size()\n",
    "\n",
    "size_all_mb = (param_size + buffer_size) / 1024**2\n",
    "print('model size: {:.3f}MB'.format(size_all_mb))"
   ]
  }
 ],
 "metadata": {
  "kernelspec": {
   "display_name": "env",
   "language": "python",
   "name": "python3"
  },
  "language_info": {
   "codemirror_mode": {
    "name": "ipython",
    "version": 3
   },
   "file_extension": ".py",
   "mimetype": "text/x-python",
   "name": "python",
   "nbconvert_exporter": "python",
   "pygments_lexer": "ipython3",
   "version": "3.11.2"
  },
  "orig_nbformat": 4
 },
 "nbformat": 4,
 "nbformat_minor": 2
}
