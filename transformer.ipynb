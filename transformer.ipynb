{
 "cells": [
  {
   "attachments": {},
   "cell_type": "markdown",
   "metadata": {},
   "source": [
    "# Transformer Architecture\n",
    "Follows the \"Attention is all you need\" paper architecture"
   ]
  },
  {
   "cell_type": "code",
   "execution_count": 2,
   "metadata": {},
   "outputs": [],
   "source": [
    "import torch\n",
    "from torch import nn"
   ]
  },
  {
   "cell_type": "code",
   "execution_count": 30,
   "metadata": {},
   "outputs": [],
   "source": [
    "d_model = 512\n",
    "d_ff = 2048\n",
    "h = 8\n",
    "head_dim = d_model/h\n",
    "N = 6\n",
    "device = \"cuda\" if torch.cuda.is_available() else \"cpu\""
   ]
  },
  {
   "cell_type": "code",
   "execution_count": 63,
   "metadata": {},
   "outputs": [
    {
     "data": {
      "text/plain": [
       "torch.Size([10, 3, 64])"
      ]
     },
     "execution_count": 63,
     "metadata": {},
     "output_type": "execute_result"
    }
   ],
   "source": [
    "class AttentionHead(nn.Module):\n",
    "    def __init__(self,head_dim:int = 64, masked:bool = False) -> None:\n",
    "        super().__init__()\n",
    "        self.masked = masked\n",
    "        self.queries= nn.Linear(in_features=head_dim,out_features=head_dim)\n",
    "        self.keys = nn.Linear(in_features=head_dim,out_features=head_dim)\n",
    "        self.values = nn.Linear(in_features=head_dim,out_features=head_dim)\n",
    "\n",
    "    def forward(self,X:torch.Tensor) -> torch.Tensor:\n",
    "        B,T,C = X.shape\n",
    "\n",
    "        K = self.keys(X)\n",
    "        Q = self.queries(X)\n",
    "        V = self.values(X)\n",
    "\n",
    "        # print(K.shape,Q.shape,V.shape)\n",
    "        # print(K.transpose(2,1).shape)\n",
    "        # print((Q @ K.transpose(2,1)).shape)\n",
    "\n",
    "        scaled_dot_product_attention = (Q @ K.transpose(2,1))/torch.sqrt(torch.tensor(head_dim))\n",
    "        # print(scaled_dot_product_attention.shape)\n",
    "        if self.masked:\n",
    "            mask = torch.tril(torch.ones(T,T)) == 0\n",
    "            scaled_dot_product_attention = scaled_dot_product_attention.masked_fill(mask,-float(\"inf\"))\n",
    "            # print(scaled_dot_product_attention[0])\n",
    "\n",
    "        dot_product_softened = torch.softmax(scaled_dot_product_attention,dim=1)\n",
    "\n",
    "        return dot_product_softened @ V\n",
    "\n",
    "attn = AttentionHead(masked=True)\n",
    "v = attn(torch.rand((10,3,64)))\n",
    "v.shape"
   ]
  },
  {
   "cell_type": "code",
   "execution_count": 27,
   "metadata": {},
   "outputs": [],
   "source": [
    "class MultiHeadSelfAttention(nn.Module):\n",
    "    def __init__(self, heads:int = 8, masked = False) -> None:\n",
    "        super().__init__()\n",
    "        self.layer_norm = nn.LayerNorm(d_model)\n",
    "        self.heads = [AttentionHead() for h in range(heads)]\n",
    "    \n",
    "    def forward(self,X:torch.Tensor) ->torch.Tensor:\n",
    "        return self.layer_norm(X+self.heads(X))"
   ]
  },
  {
   "cell_type": "code",
   "execution_count": 20,
   "metadata": {},
   "outputs": [],
   "source": [
    "class FeedForward(nn.Module):\n",
    "    def __init__(self) -> None:\n",
    "        super().__init__()\n",
    "        self.ffn = nn.Sequential(\n",
    "            nn.Linear(in_features=d_model,out_features=d_ff),\n",
    "            nn.ReLU(),\n",
    "            nn.Linear(in_features=d_ff,out_features=d_model)\n",
    "        )\n",
    "        self.layer_norm = nn.LayerNorm(d_model)\n",
    "\n",
    "    def forward(self,X:torch.Tensor) -> torch.Tensor:\n",
    "        return self.layer_norm(X+self.ffn(X))\n",
    "# feedforward = FeedForward()\n",
    "# feedforward.state_dict()"
   ]
  },
  {
   "cell_type": "code",
   "execution_count": 18,
   "metadata": {},
   "outputs": [
    {
     "data": {
      "text/plain": [
       "EncoderLayer(\n",
       "  (multihead_self_attention): MultiHeadSelfAttention()\n",
       "  (feedforward): FeedForward()\n",
       ")"
      ]
     },
     "execution_count": 18,
     "metadata": {},
     "output_type": "execute_result"
    }
   ],
   "source": [
    "class EncoderLayer(nn.Module):\n",
    "    def __init__(self) -> None:\n",
    "        super().__init__()\n",
    "        self.multihead_self_attention = MultiHeadSelfAttention()\n",
    "        self.feedforward = FeedForward()\n",
    "\n",
    "    def forward(self,X:torch.Tensor) -> torch.Tensor:\n",
    "        return self.feedforward(self.multihead_self_attention(X))\n",
    "    \n",
    "encoder_layer = EncoderLayer()\n",
    "encoder_layer"
   ]
  },
  {
   "cell_type": "code",
   "execution_count": 14,
   "metadata": {},
   "outputs": [
    {
     "data": {
      "text/plain": [
       "Encoder(\n",
       "  (encode): Sequential(\n",
       "    (0): EncoderLayer(\n",
       "      (mhsa): MultiHeadSelfAttention()\n",
       "      (feedforward): FeedForward()\n",
       "    )\n",
       "    (1): EncoderLayer(\n",
       "      (mhsa): MultiHeadSelfAttention()\n",
       "      (feedforward): FeedForward()\n",
       "    )\n",
       "    (2): EncoderLayer(\n",
       "      (mhsa): MultiHeadSelfAttention()\n",
       "      (feedforward): FeedForward()\n",
       "    )\n",
       "    (3): EncoderLayer(\n",
       "      (mhsa): MultiHeadSelfAttention()\n",
       "      (feedforward): FeedForward()\n",
       "    )\n",
       "    (4): EncoderLayer(\n",
       "      (mhsa): MultiHeadSelfAttention()\n",
       "      (feedforward): FeedForward()\n",
       "    )\n",
       "    (5): EncoderLayer(\n",
       "      (mhsa): MultiHeadSelfAttention()\n",
       "      (feedforward): FeedForward()\n",
       "    )\n",
       "  )\n",
       ")"
      ]
     },
     "execution_count": 14,
     "metadata": {},
     "output_type": "execute_result"
    }
   ],
   "source": [
    "class Encoder(nn.Module):\n",
    "    def __init__(self, N:int=6) -> None:\n",
    "        super().__init__()\n",
    "        self.encode = nn.Sequential(*[EncoderLayer() for n in range(N)])\n",
    "\n",
    "    def forward(self,X:torch.Tensor) -> torch.Tensor:\n",
    "        return self.encode(X)\n",
    "\n",
    "encoder = Encoder(N=6)\n",
    "encoder"
   ]
  },
  {
   "cell_type": "code",
   "execution_count": 25,
   "metadata": {},
   "outputs": [
    {
     "data": {
      "text/plain": [
       "Decoder(\n",
       "  (decode): Sequential(\n",
       "    (0): DecoderLayer()\n",
       "    (1): DecoderLayer()\n",
       "    (2): DecoderLayer()\n",
       "    (3): DecoderLayer()\n",
       "    (4): DecoderLayer()\n",
       "    (5): DecoderLayer()\n",
       "  )\n",
       ")"
      ]
     },
     "execution_count": 25,
     "metadata": {},
     "output_type": "execute_result"
    }
   ],
   "source": [
    "class Decoder(nn.Module):\n",
    "    def __init__(self, N:int=6) -> None:\n",
    "        super().__init__()\n",
    "        self.decode = nn.Sequential(*[DecoderLayer() for n in range(N)])\n",
    "\n",
    "\n",
    "decoder = Decoder()\n",
    "decoder"
   ]
  },
  {
   "cell_type": "code",
   "execution_count": 22,
   "metadata": {},
   "outputs": [
    {
     "data": {
      "text/plain": [
       "Transformer(\n",
       "  (encoder): Encoder(\n",
       "    (encode): Sequential(\n",
       "      (0): EncoderLayer(\n",
       "        (multihead_self_attention): MultiHeadSelfAttention()\n",
       "        (feedforward): FeedForward()\n",
       "      )\n",
       "      (1): EncoderLayer(\n",
       "        (multihead_self_attention): MultiHeadSelfAttention()\n",
       "        (feedforward): FeedForward()\n",
       "      )\n",
       "      (2): EncoderLayer(\n",
       "        (multihead_self_attention): MultiHeadSelfAttention()\n",
       "        (feedforward): FeedForward()\n",
       "      )\n",
       "      (3): EncoderLayer(\n",
       "        (multihead_self_attention): MultiHeadSelfAttention()\n",
       "        (feedforward): FeedForward()\n",
       "      )\n",
       "      (4): EncoderLayer(\n",
       "        (multihead_self_attention): MultiHeadSelfAttention()\n",
       "        (feedforward): FeedForward()\n",
       "      )\n",
       "      (5): EncoderLayer(\n",
       "        (multihead_self_attention): MultiHeadSelfAttention()\n",
       "        (feedforward): FeedForward()\n",
       "      )\n",
       "    )\n",
       "  )\n",
       "  (decoder): Decoder()\n",
       ")"
      ]
     },
     "execution_count": 22,
     "metadata": {},
     "output_type": "execute_result"
    }
   ],
   "source": [
    "class Transformer(nn.Module):\n",
    "    def __init__(self) -> None:\n",
    "        super().__init__()\n",
    "        self.encoder = Encoder()\n",
    "        self.decoder = Decoder()\n",
    "model = Transformer()\n",
    "model"
   ]
  }
 ],
 "metadata": {
  "kernelspec": {
   "display_name": "env",
   "language": "python",
   "name": "python3"
  },
  "language_info": {
   "codemirror_mode": {
    "name": "ipython",
    "version": 3
   },
   "file_extension": ".py",
   "mimetype": "text/x-python",
   "name": "python",
   "nbconvert_exporter": "python",
   "pygments_lexer": "ipython3",
   "version": "3.11.2"
  },
  "orig_nbformat": 4
 },
 "nbformat": 4,
 "nbformat_minor": 2
}
