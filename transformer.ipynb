{
 "cells": [
  {
   "attachments": {},
   "cell_type": "markdown",
   "metadata": {},
   "source": [
    "# Transformer Architecture\n",
    "Follows the \"Attention is all you need\" paper architecture"
   ]
  },
  {
   "cell_type": "code",
   "execution_count": 2,
   "metadata": {},
   "outputs": [],
   "source": [
    "import torch\n",
    "from torch import nn"
   ]
  },
  {
   "cell_type": "code",
   "execution_count": 3,
   "metadata": {},
   "outputs": [],
   "source": [
    "d_model = 512\n",
    "d_ff = 2048\n",
    "h = 8\n",
    "N = 6\n",
    "device = \"cuda\" if torch.cuda.is_available() else \"cpu\""
   ]
  },
  {
   "cell_type": "code",
   "execution_count": null,
   "metadata": {},
   "outputs": [],
   "source": []
  },
  {
   "cell_type": "code",
   "execution_count": 27,
   "metadata": {},
   "outputs": [],
   "source": [
    "class MultiHeadSelfAttention(nn.Module):\n",
    "    def __init__(self, heads:int = 8, masked = False) -> None:\n",
    "        super().__init__()\n",
    "        self.layer_norm = nn.LayerNorm(d_model)\n",
    "        self.heads = nn.Sequential()\n",
    "    \n",
    "    def forward(self,X:torch.Tensor) ->torch.Tensor:\n",
    "        return self.layer_norm(X+self.heads(X))"
   ]
  },
  {
   "cell_type": "code",
   "execution_count": 20,
   "metadata": {},
   "outputs": [],
   "source": [
    "class FeedForward(nn.Module):\n",
    "    def __init__(self) -> None:\n",
    "        super().__init__()\n",
    "        self.ffn = nn.Sequential(\n",
    "            nn.Linear(in_features=d_model,out_features=d_ff),\n",
    "            nn.ReLU(),\n",
    "            nn.Linear(in_features=d_ff,out_features=d_model)\n",
    "        )\n",
    "        self.layer_norm = nn.LayerNorm(d_model)\n",
    "\n",
    "    def forward(self,X:torch.Tensor) -> torch.Tensor:\n",
    "        return self.layer_norm(X+self.ffn(X))\n",
    "# feedforward = FeedForward()\n",
    "# feedforward.state_dict()"
   ]
  },
  {
   "cell_type": "code",
   "execution_count": 18,
   "metadata": {},
   "outputs": [
    {
     "data": {
      "text/plain": [
       "EncoderLayer(\n",
       "  (multihead_self_attention): MultiHeadSelfAttention()\n",
       "  (feedforward): FeedForward()\n",
       ")"
      ]
     },
     "execution_count": 18,
     "metadata": {},
     "output_type": "execute_result"
    }
   ],
   "source": [
    "class EncoderLayer(nn.Module):\n",
    "    def __init__(self) -> None:\n",
    "        super().__init__()\n",
    "        self.multihead_self_attention = MultiHeadSelfAttention()\n",
    "        self.feedforward = FeedForward()\n",
    "\n",
    "    def forward(self,X:torch.Tensor) -> torch.Tensor:\n",
    "        return self.feedforward(self.multihead_self_attention(X))\n",
    "    \n",
    "encoder_layer = EncoderLayer()\n",
    "encoder_layer"
   ]
  },
  {
   "cell_type": "code",
   "execution_count": 14,
   "metadata": {},
   "outputs": [
    {
     "data": {
      "text/plain": [
       "Encoder(\n",
       "  (encode): Sequential(\n",
       "    (0): EncoderLayer(\n",
       "      (mhsa): MultiHeadSelfAttention()\n",
       "      (feedforward): FeedForward()\n",
       "    )\n",
       "    (1): EncoderLayer(\n",
       "      (mhsa): MultiHeadSelfAttention()\n",
       "      (feedforward): FeedForward()\n",
       "    )\n",
       "    (2): EncoderLayer(\n",
       "      (mhsa): MultiHeadSelfAttention()\n",
       "      (feedforward): FeedForward()\n",
       "    )\n",
       "    (3): EncoderLayer(\n",
       "      (mhsa): MultiHeadSelfAttention()\n",
       "      (feedforward): FeedForward()\n",
       "    )\n",
       "    (4): EncoderLayer(\n",
       "      (mhsa): MultiHeadSelfAttention()\n",
       "      (feedforward): FeedForward()\n",
       "    )\n",
       "    (5): EncoderLayer(\n",
       "      (mhsa): MultiHeadSelfAttention()\n",
       "      (feedforward): FeedForward()\n",
       "    )\n",
       "  )\n",
       ")"
      ]
     },
     "execution_count": 14,
     "metadata": {},
     "output_type": "execute_result"
    }
   ],
   "source": [
    "class Encoder(nn.Module):\n",
    "    def __init__(self, N:int=6) -> None:\n",
    "        super().__init__()\n",
    "        self.encode = nn.Sequential(*[EncoderLayer() for n in range(N)])\n",
    "\n",
    "    def forward(self,X:torch.Tensor) -> torch.Tensor:\n",
    "        return self.encode(X)\n",
    "\n",
    "encoder = Encoder(N=6)\n",
    "encoder"
   ]
  },
  {
   "cell_type": "code",
   "execution_count": 28,
   "metadata": {},
   "outputs": [
    {
     "data": {
      "text/plain": [
       "DecoderLayer(\n",
       "  (masked_multihead_self_attention): MultiHeadSelfAttention(\n",
       "    (layer_norm): LayerNorm((512,), eps=1e-05, elementwise_affine=True)\n",
       "    (heads): Sequential()\n",
       "  )\n",
       "  (multihead_self_attention): MultiHeadSelfAttention(\n",
       "    (layer_norm): LayerNorm((512,), eps=1e-05, elementwise_affine=True)\n",
       "    (heads): Sequential()\n",
       "  )\n",
       "  (feedforward): FeedForward(\n",
       "    (ffn): Sequential(\n",
       "      (0): Linear(in_features=512, out_features=2048, bias=True)\n",
       "      (1): ReLU()\n",
       "      (2): Linear(in_features=2048, out_features=512, bias=True)\n",
       "    )\n",
       "    (layer_norm): LayerNorm((512,), eps=1e-05, elementwise_affine=True)\n",
       "  )\n",
       ")"
      ]
     },
     "execution_count": 28,
     "metadata": {},
     "output_type": "execute_result"
    }
   ],
   "source": [
    "class DecoderLayer(nn.Module):\n",
    "    def __init__(self) -> None:\n",
    "        super().__init__()\n",
    "        self.masked_multihead_self_attention = MultiHeadSelfAttention(heads=8,masked=True)\n",
    "        self.multihead_self_attention = MultiHeadSelfAttention(heads=8)\n",
    "        self.feedforward = FeedForward()\n",
    "        \n",
    "    def forward(self,X:torch.Tensor) -> torch.Tensor:\n",
    "        pass\n",
    "    \n",
    "decoder_layer = DecoderLayer()\n",
    "decoder_layer"
   ]
  },
  {
   "cell_type": "code",
   "execution_count": 25,
   "metadata": {},
   "outputs": [
    {
     "data": {
      "text/plain": [
       "Decoder(\n",
       "  (decode): Sequential(\n",
       "    (0): DecoderLayer()\n",
       "    (1): DecoderLayer()\n",
       "    (2): DecoderLayer()\n",
       "    (3): DecoderLayer()\n",
       "    (4): DecoderLayer()\n",
       "    (5): DecoderLayer()\n",
       "  )\n",
       ")"
      ]
     },
     "execution_count": 25,
     "metadata": {},
     "output_type": "execute_result"
    }
   ],
   "source": [
    "class Decoder(nn.Module):\n",
    "    def __init__(self, N:int=6) -> None:\n",
    "        super().__init__()\n",
    "        self.decode = nn.Sequential(*[DecoderLayer() for n in range(N)])\n",
    "\n",
    "\n",
    "decoder = Decoder()\n",
    "decoder"
   ]
  },
  {
   "cell_type": "code",
   "execution_count": 22,
   "metadata": {},
   "outputs": [
    {
     "data": {
      "text/plain": [
       "Transformer(\n",
       "  (encoder): Encoder(\n",
       "    (encode): Sequential(\n",
       "      (0): EncoderLayer(\n",
       "        (multihead_self_attention): MultiHeadSelfAttention()\n",
       "        (feedforward): FeedForward()\n",
       "      )\n",
       "      (1): EncoderLayer(\n",
       "        (multihead_self_attention): MultiHeadSelfAttention()\n",
       "        (feedforward): FeedForward()\n",
       "      )\n",
       "      (2): EncoderLayer(\n",
       "        (multihead_self_attention): MultiHeadSelfAttention()\n",
       "        (feedforward): FeedForward()\n",
       "      )\n",
       "      (3): EncoderLayer(\n",
       "        (multihead_self_attention): MultiHeadSelfAttention()\n",
       "        (feedforward): FeedForward()\n",
       "      )\n",
       "      (4): EncoderLayer(\n",
       "        (multihead_self_attention): MultiHeadSelfAttention()\n",
       "        (feedforward): FeedForward()\n",
       "      )\n",
       "      (5): EncoderLayer(\n",
       "        (multihead_self_attention): MultiHeadSelfAttention()\n",
       "        (feedforward): FeedForward()\n",
       "      )\n",
       "    )\n",
       "  )\n",
       "  (decoder): Decoder()\n",
       ")"
      ]
     },
     "execution_count": 22,
     "metadata": {},
     "output_type": "execute_result"
    }
   ],
   "source": [
    "class Transformer(nn.Module):\n",
    "    def __init__(self) -> None:\n",
    "        super().__init__()\n",
    "        self.encoder = Encoder()\n",
    "        self.decoder = Decoder()\n",
    "model = Transformer()\n",
    "model"
   ]
  }
 ],
 "metadata": {
  "kernelspec": {
   "display_name": "env",
   "language": "python",
   "name": "python3"
  },
  "language_info": {
   "codemirror_mode": {
    "name": "ipython",
    "version": 3
   },
   "file_extension": ".py",
   "mimetype": "text/x-python",
   "name": "python",
   "nbconvert_exporter": "python",
   "pygments_lexer": "ipython3",
   "version": "3.11.2"
  },
  "orig_nbformat": 4
 },
 "nbformat": 4,
 "nbformat_minor": 2
}
